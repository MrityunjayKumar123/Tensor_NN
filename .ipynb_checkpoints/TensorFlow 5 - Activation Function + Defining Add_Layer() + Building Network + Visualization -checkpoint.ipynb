{
 "cells": [
  {
   "cell_type": "code",
   "execution_count": null,
   "metadata": {},
   "outputs": [],
   "source": [
    "# Mrityunjay kumar # \n",
    "# TensorFlow 5 - Activation Function + Defining Add_Layer() + Building Network + Visualization "
   ]
  },
  {
   "cell_type": "code",
   "execution_count": 2,
   "metadata": {},
   "outputs": [
    {
     "name": "stderr",
     "output_type": "stream",
     "text": [
      "/anaconda3/lib/python3.6/site-packages/h5py/__init__.py:36: FutureWarning: Conversion of the second argument of issubdtype from `float` to `np.floating` is deprecated. In future, it will be treated as `np.float64 == np.dtype(float).type`.\n",
      "  from ._conv import register_converters as _register_converters\n"
     ]
    }
   ],
   "source": [
    "import matplotlib\n",
    "import tensorflow as tf\n",
    "import numpy as np\n",
    "from matplotlib import pyplot as plt"
   ]
  },
  {
   "cell_type": "code",
   "execution_count": 16,
   "metadata": {},
   "outputs": [],
   "source": [
    "#defining the structure of a layer\n",
    "\n",
    "def add_layer(inputs,in_size,out_size,activation_function=None):\n",
    "    #inputs from previous layer\n",
    "    #in_size: size(number of neurons) of previous layer\n",
    "    #out_size: size(number of neurons) of this layer\n",
    "    #activation_function: used in this layer\n",
    "    Weights = tf.compat.v1.Variable(tf.compat.v1.random_normal([in_size,out_size]))\n",
    "    biases = tf.compat.v1.Variable(tf.compat.v1.zeros([1,out_size])+0.1)\n",
    "    logit = tf.compat.v1.matmul(inputs,Weights) + biases\n",
    "    if activation_function is None:\n",
    "        output = logit\n",
    "    else:\n",
    "        output = activation_function(logit)\n",
    "    return output"
   ]
  },
  {
   "cell_type": "code",
   "execution_count": 17,
   "metadata": {},
   "outputs": [],
   "source": [
    "#make up some real data\n",
    "x = np.linspace(-1,1,300)[:,np.newaxis]\n",
    "noise = np.random.normal(0,0.05,x.shape)\n",
    "y = np.square(x)-0.05+noise"
   ]
  },
  {
   "cell_type": "code",
   "execution_count": 32,
   "metadata": {},
   "outputs": [],
   "source": [
    "#plt.scatter(x,y)\n",
    "#plt.show()"
   ]
  },
  {
   "cell_type": "code",
   "execution_count": 18,
   "metadata": {},
   "outputs": [],
   "source": [
    "tf.compat.v1.disable_eager_execution()\n",
    "\n",
    "#define placeholder for inputs to network\n",
    "xs = tf.compat.v1.placeholder(tf.compat.v1.float32,[None,1])  #numerous rows and 1 column : structure of x\n",
    "ys = tf.compat.v1.placeholder(tf.compat.v1.float32,[None,1])  #numerous rows and 1 column : structure of y"
   ]
  },
  {
   "cell_type": "code",
   "execution_count": 19,
   "metadata": {},
   "outputs": [],
   "source": [
    "#add hidden layer\n",
    "layer1 = add_layer(xs,1,10,tf.compat.v1.nn.relu)#input size has one feature(unit)&the next hidden layer consists of 10 units"
   ]
  },
  {
   "cell_type": "code",
   "execution_count": 20,
   "metadata": {},
   "outputs": [],
   "source": [
    "#add output layer\n",
    "predicted = add_layer(layer1,10,1)#layer one had 10 units, output ys has 1 unit and since non linear regression\n",
    "                                  #therefore, no activation function (try and put some activation function and \n",
    "                                  #check the results)"
   ]
  },
  {
   "cell_type": "code",
   "execution_count": 23,
   "metadata": {},
   "outputs": [],
   "source": [
    "#error between prediction and real data\n",
    "loss = tf.compat.v1.reduce_mean(tf.compat.v1.reduce_sum(tf.square(predicted-ys),reduction_indices=[1]))\n",
    "training = tf.compat.v1.train.GradientDescentOptimizer(0.1).minimize(loss)  #0.1 is the learning rate, minimise the loss"
   ]
  },
  {
   "cell_type": "code",
   "execution_count": 24,
   "metadata": {},
   "outputs": [
    {
     "name": "stderr",
     "output_type": "stream",
     "text": [
      "WARNING: Logging before flag parsing goes to stderr.\n",
      "W0116 21:49:06.703929 4440675776 deprecation.py:323] From /anaconda3/lib/python3.6/site-packages/tensorflow/python/util/tf_should_use.py:193: initialize_all_variables (from tensorflow.python.ops.variables) is deprecated and will be removed after 2017-03-02.\n",
      "Instructions for updating:\n",
      "Use `tf.global_variables_initializer` instead.\n"
     ]
    }
   ],
   "source": [
    "#important\n",
    "init = tf.compat.v1.initialize_all_variables()\n",
    "sess = tf.compat.v1.Session()\n",
    "sess.run(init)"
   ]
  },
  {
   "cell_type": "code",
   "execution_count": 26,
   "metadata": {},
   "outputs": [
    {
     "data": {
      "image/png": "[encoded data removed]",
      "text/plain": [
       "<Figure size 432x288 with 1 Axes>"
      ]
     },
     "metadata": {},
     "output_type": "display_data"
    }
   ],
   "source": [
    "fig = plt.figure()\n",
    "ax = fig.add_subplot(1,1,1)  #1 row,1 column and 1 figure\n",
    "ax.scatter(x,y)\n",
    "plt.ion()\n",
    "plt.show()\n",
    "\n",
    "for i in range(1000):\n",
    "    #training\n",
    "    sess.run(training,feed_dict={xs:x,ys:y})\n",
    "    if i%50==0:\n",
    "        #to see step improvement\n",
    "        #print sess.run(loss,feed_dict={xs:x,ys:y})\n",
    "        try:\n",
    "            ax.lines.remove(lines[0])\n",
    "        except Exception:   #handles exception in the 1st case when there is no line but tries to remove that time\n",
    "            pass\n",
    "        y_predicted=sess.run(predicted,feed_dict={xs:x})\n",
    "        #plot that\n",
    "        lines=ax.plot(x,y_predicted,'r-',lw=5)\n",
    "        plt.pause(0.05)"
   ]
  },
  {
   "cell_type": "code",
   "execution_count": null,
   "metadata": {
    "collapsed": true
   },
   "outputs": [],
   "source": []
  }
 ],
 "metadata": {
  "kernelspec": {
   "display_name": "Python 3",
   "language": "python",
   "name": "python3"
  },
  "language_info": {
   "codemirror_mode": {
    "name": "ipython",
    "version": 3
   },
   "file_extension": ".py",
   "mimetype": "text/x-python",
   "name": "python",
   "nbconvert_exporter": "python",
   "pygments_lexer": "ipython3",
   "version": "3.6.5"
  }
 },
 "nbformat": 4,
 "nbformat_minor": 1
}

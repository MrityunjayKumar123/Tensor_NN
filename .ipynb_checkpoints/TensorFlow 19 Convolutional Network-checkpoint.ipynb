{
 "cells": [
  {
   "cell_type": "code",
   "execution_count": 15,
   "metadata": {},
   "outputs": [],
   "source": [
    "# Mrityunjay kumar #\n",
    "# A Convolutional Network implementation example using TensorFlow library.\n",
    "# This example is using the MNIST database of handwritten digits\n",
    "# (http://yann.lecun.com/exdb/mnist/)\n"
   ]
  },
  {
   "cell_type": "code",
   "execution_count": 16,
   "metadata": {},
   "outputs": [
    {
     "name": "stdout",
     "output_type": "stream",
     "text": [
      "Extracting MNIST/train-images-idx3-ubyte.gz\n",
      "Extracting MNIST/train-labels-idx1-ubyte.gz\n",
      "Extracting MNIST/t10k-images-idx3-ubyte.gz\n",
      "Extracting MNIST/t10k-labels-idx1-ubyte.gz\n"
     ]
    }
   ],
   "source": [
    "# Import MINST data\n",
    "\n",
    "import tensorflow as tf\n",
    "import numpy as np\n",
    "\n",
    "tf.compat.v1.disable_eager_execution()\n",
    "tf.compat.v1.reset_default_graph()\n",
    "\n",
    "import input_data\n",
    "mnist = input_data.read_data_sets(\"MNIST/\", one_hot=True)\n",
    "\n"
   ]
  },
  {
   "cell_type": "code",
   "execution_count": null,
   "metadata": {},
   "outputs": [],
   "source": []
  },
  {
   "cell_type": "code",
   "execution_count": null,
   "metadata": {},
   "outputs": [],
   "source": []
  },
  {
   "cell_type": "code",
   "execution_count": 17,
   "metadata": {},
   "outputs": [],
   "source": [
    "# Parameters\n",
    "learning_rate = 0.001\n",
    "training_iters = 100000\n",
    "batch_size = 128\n",
    "display_step = 20"
   ]
  },
  {
   "cell_type": "code",
   "execution_count": 18,
   "metadata": {},
   "outputs": [],
   "source": [
    "# Network Parameters\n",
    "n_input = 784 # MNIST data input (img shape: 28*28)\n",
    "n_classes = 10 # MNIST total classes (0-9 digits)\n",
    "dropout = 0.75 # Dropout, probability to keep units"
   ]
  },
  {
   "cell_type": "code",
   "execution_count": 19,
   "metadata": {},
   "outputs": [],
   "source": [
    "# tf Graph input\n",
    "x = tf.compat.v1.placeholder(tf.compat.v1.float32, [None, n_input])\n",
    "y = tf.compat.v1.placeholder(tf.compat.v1.float32, [None, n_classes])\n",
    "keep_prob = tf.compat.v1.placeholder(tf.compat.v1.float32) #dropout (keep probability)"
   ]
  },
  {
   "cell_type": "code",
   "execution_count": null,
   "metadata": {},
   "outputs": [],
   "source": []
  },
  {
   "cell_type": "code",
   "execution_count": 20,
   "metadata": {},
   "outputs": [],
   "source": [
    "# Create model\n",
    "def conv2d(img, w, b):\n",
    "    return tf.compat.v1.nn.relu(tf.compat.v1.nn.bias_add(tf.nn.conv2d(img, w, strides=[1, 1, 1, 1], \n",
    "                                                  padding='SAME'),b))\n",
    "\n",
    "def max_pool(img, k):\n",
    "    return tf.compat.v1.nn.max_pool(img, ksize=[1, k, k, 1], strides=[1, k, k, 1], padding='SAME')\n",
    "\n",
    "def conv_net(_X, _weights, _biases, _dropout):\n",
    "    # Reshape input picture\n",
    "    _X = tf.compat.v1.reshape(_X, shape=[-1, 28, 28, 1])\n",
    "\n",
    "    # Convolution Layer\n",
    "    conv1 = conv2d(_X, _weights['wc1'], _biases['bc1'])\n",
    "    # Max Pooling (down-sampling)\n",
    "    conv1 = max_pool(conv1, k=2)\n",
    "    # Apply Dropout\n",
    "    conv1 = tf.compat.v1.nn.dropout(conv1, _dropout)\n",
    "\n",
    "    # Convolution Layer\n",
    "    conv2 = conv2d(conv1, _weights['wc2'], _biases['bc2'])\n",
    "    # Max Pooling (down-sampling)\n",
    "    conv2 = max_pool(conv2, k=2)\n",
    "    # Apply Dropout\n",
    "    conv2 = tf.compat.v1.nn.dropout(conv2, _dropout)\n",
    "\n",
    "    # Fully connected layer\n",
    "    # Reshape conv2 output to fit dense layer input\n",
    "    dense1 = tf.compat.v1.reshape(conv2, [-1, _weights['wd1'].get_shape().as_list()[0]]) \n",
    "    # Relu activation\n",
    "    dense1 = tf.compat.v1.nn.relu(tf.compat.v1.add(tf.compat.v1.matmul(dense1, _weights['wd1']), _biases['bd1']))\n",
    "    # Apply Dropout\n",
    "    dense1 = tf.compat.v1.nn.dropout(dense1, _dropout) # Apply Dropout\n",
    "\n",
    "    # Output, class prediction\n",
    "    out = tf.compat.v1.add(tf.compat.v1.matmul(dense1, _weights['out']), _biases['out'])\n",
    "    return out"
   ]
  },
  {
   "cell_type": "code",
   "execution_count": 21,
   "metadata": {},
   "outputs": [],
   "source": [
    "# Store layers weight & bias\n",
    "weights = {\n",
    "    # 5x5 conv, 1 input, 32 outputs\n",
    "    'wc1': tf.compat.v1.Variable(tf.compat.v1.random_normal([5, 5, 1, 32])), \n",
    "    # 5x5 conv, 32 inputs, 64 outputs\n",
    "    'wc2': tf.compat.v1.Variable(tf.compat.v1.random_normal([5, 5, 32, 64])), \n",
    "    # fully connected, 7*7*64 inputs, 1024 outputs\n",
    "    'wd1': tf.compat.v1.Variable(tf.compat.v1.random_normal([7*7*64, 1024])), \n",
    "    # 1024 inputs, 10 outputs (class prediction)\n",
    "    'out': tf.compat.v1.Variable(tf.compat.v1.random_normal([1024, n_classes])) \n",
    "}\n",
    "\n",
    "biases = {\n",
    "    'bc1': tf.compat.v1.Variable(tf.compat.v1.random_normal([32])),\n",
    "    'bc2': tf.compat.v1.Variable(tf.compat.v1.random_normal([64])),\n",
    "    'bd1': tf.compat.v1.Variable(tf.compat.v1.random_normal([1024])),\n",
    "    'out': tf.compat.v1.Variable(tf.compat.v1.random_normal([n_classes]))\n",
    "}"
   ]
  },
  {
   "cell_type": "code",
   "execution_count": 22,
   "metadata": {},
   "outputs": [],
   "source": [
    "# Construct model\n",
    "pred = conv_net(x, weights, biases, keep_prob)"
   ]
  },
  {
   "cell_type": "code",
   "execution_count": null,
   "metadata": {},
   "outputs": [],
   "source": []
  },
  {
   "cell_type": "code",
   "execution_count": 23,
   "metadata": {},
   "outputs": [],
   "source": [
    "# Define loss and optimizer\n",
    "cost = tf.compat.v1.reduce_mean(tf.compat.v1.nn.softmax_cross_entropy_with_logits(logits =pred, labels=y))\n",
    "\n",
    "\n",
    "optimizer = tf.compat.v1.train.AdamOptimizer(learning_rate=learning_rate).minimize(cost)"
   ]
  },
  {
   "cell_type": "code",
   "execution_count": null,
   "metadata": {},
   "outputs": [],
   "source": []
  },
  {
   "cell_type": "code",
   "execution_count": null,
   "metadata": {},
   "outputs": [],
   "source": []
  },
  {
   "cell_type": "code",
   "execution_count": 24,
   "metadata": {},
   "outputs": [],
   "source": [
    "# Evaluate model\n",
    "correct_pred = tf.compat.v1.equal(tf.compat.v1.argmax(pred,1), tf.compat.v1.argmax(y,1))\n",
    "accuracy = tf.compat.v1.reduce_mean(tf.compat.v1.cast(correct_pred, tf.compat.v1.float32))"
   ]
  },
  {
   "cell_type": "code",
   "execution_count": null,
   "metadata": {},
   "outputs": [],
   "source": []
  },
  {
   "cell_type": "code",
   "execution_count": 25,
   "metadata": {},
   "outputs": [],
   "source": [
    "# Initializing the variables\n",
    "init = tf.compat.v1.initialize_all_variables()"
   ]
  },
  {
   "cell_type": "code",
   "execution_count": null,
   "metadata": {},
   "outputs": [],
   "source": []
  },
  {
   "cell_type": "code",
   "execution_count": 26,
   "metadata": {},
   "outputs": [
    {
     "name": "stdout",
     "output_type": "stream",
     "text": [
      "Iter 2560, Minibatch Loss= 11219.332031, Training Accuracy= 0.38281\n",
      "Iter 5120, Minibatch Loss= 4442.676270, Training Accuracy= 0.69531\n",
      "Iter 7680, Minibatch Loss= 3588.013184, Training Accuracy= 0.72656\n",
      "Iter 10240, Minibatch Loss= 3327.193604, Training Accuracy= 0.81250\n",
      "Iter 12800, Minibatch Loss= 2574.712158, Training Accuracy= 0.79688\n",
      "Iter 15360, Minibatch Loss= 2642.146484, Training Accuracy= 0.80469\n",
      "Iter 17920, Minibatch Loss= 2110.542969, Training Accuracy= 0.82812\n",
      "Iter 20480, Minibatch Loss= 1864.048462, Training Accuracy= 0.82812\n",
      "Iter 23040, Minibatch Loss= 2441.991699, Training Accuracy= 0.80469\n",
      "Iter 25600, Minibatch Loss= 2270.326172, Training Accuracy= 0.82812\n",
      "Iter 28160, Minibatch Loss= 1562.228638, Training Accuracy= 0.85938\n",
      "Iter 30720, Minibatch Loss= 1106.920166, Training Accuracy= 0.87500\n",
      "Iter 33280, Minibatch Loss= 1780.205444, Training Accuracy= 0.84375\n",
      "Iter 35840, Minibatch Loss= 1536.382080, Training Accuracy= 0.83594\n",
      "Iter 38400, Minibatch Loss= 559.136353, Training Accuracy= 0.90625\n",
      "Iter 40960, Minibatch Loss= 1018.055908, Training Accuracy= 0.90625\n",
      "Iter 43520, Minibatch Loss= 906.051025, Training Accuracy= 0.90625\n",
      "Iter 46080, Minibatch Loss= 1507.637329, Training Accuracy= 0.88281\n",
      "Iter 48640, Minibatch Loss= 843.645813, Training Accuracy= 0.89062\n",
      "Iter 51200, Minibatch Loss= 1683.907837, Training Accuracy= 0.87500\n",
      "Iter 53760, Minibatch Loss= 483.609070, Training Accuracy= 0.90625\n",
      "Iter 56320, Minibatch Loss= 895.171265, Training Accuracy= 0.89844\n",
      "Iter 58880, Minibatch Loss= 1027.602783, Training Accuracy= 0.86719\n",
      "Iter 61440, Minibatch Loss= 961.095337, Training Accuracy= 0.88281\n",
      "Iter 64000, Minibatch Loss= 784.878784, Training Accuracy= 0.89062\n",
      "Iter 66560, Minibatch Loss= 965.694092, Training Accuracy= 0.88281\n",
      "Iter 69120, Minibatch Loss= 659.643188, Training Accuracy= 0.92969\n",
      "Iter 71680, Minibatch Loss= 453.886993, Training Accuracy= 0.92969\n",
      "Iter 74240, Minibatch Loss= 769.989563, Training Accuracy= 0.89062\n",
      "Iter 76800, Minibatch Loss= 557.729248, Training Accuracy= 0.89844\n",
      "Iter 79360, Minibatch Loss= 548.077087, Training Accuracy= 0.92188\n",
      "Iter 81920, Minibatch Loss= 516.614014, Training Accuracy= 0.91406\n",
      "Iter 84480, Minibatch Loss= 493.826904, Training Accuracy= 0.93750\n",
      "Iter 87040, Minibatch Loss= 362.568420, Training Accuracy= 0.92188\n",
      "Iter 89600, Minibatch Loss= 255.913696, Training Accuracy= 0.95312\n",
      "Iter 92160, Minibatch Loss= 101.378326, Training Accuracy= 0.96875\n",
      "Iter 94720, Minibatch Loss= 120.873520, Training Accuracy= 0.95312\n",
      "Iter 97280, Minibatch Loss= 455.671692, Training Accuracy= 0.90625\n",
      "Iter 99840, Minibatch Loss= 356.437866, Training Accuracy= 0.90625\n",
      "Optimization Finished!\n",
      "Testing Accuracy: 0.95703125\n"
     ]
    }
   ],
   "source": [
    "# Launch the graph\n",
    "with tf.compat.v1.Session() as sess:\n",
    "    sess.run(init)\n",
    "    step = 1\n",
    "    # Keep training until reach max iterations\n",
    "    while step * batch_size < training_iters:\n",
    "        batch_xs, batch_ys = mnist.train.next_batch(batch_size)\n",
    "        # Fit training using batch data\n",
    "        sess.run(optimizer, feed_dict={x: batch_xs, y: batch_ys, keep_prob: dropout})\n",
    "        if step % display_step == 0:\n",
    "            # Calculate batch accuracy\n",
    "            acc = sess.run(accuracy, feed_dict={x: batch_xs, y: batch_ys, keep_prob: 1.})\n",
    "            # Calculate batch loss\n",
    "            loss = sess.run(cost, feed_dict={x: batch_xs, y: batch_ys, keep_prob: 1.})\n",
    "            print (\"Iter \" + str(step*batch_size) + \", Minibatch Loss= \" + \\\n",
    "                  \"{:.6f}\".format(loss) + \", Training Accuracy= \" + \"{:.5f}\".format(acc))\n",
    "        step += 1\n",
    "    print(\"Optimization Finished!\")\n",
    "    # Calculate accuracy for 256 mnist test images\n",
    "    print (\"Testing Accuracy:\", sess.run(accuracy, feed_dict={x: mnist.test.images[:256], \n",
    "                                                             y: mnist.test.labels[:256], \n",
    "                                                             keep_prob: 1.}))"
   ]
  },
  {
   "cell_type": "code",
   "execution_count": null,
   "metadata": {},
   "outputs": [],
   "source": []
  }
 ],
 "metadata": {
  "kernelspec": {
   "display_name": "Python 3",
   "language": "python",
   "name": "python3"
  },
  "language_info": {
   "codemirror_mode": {
    "name": "ipython",
    "version": 3
   },
   "file_extension": ".py",
   "mimetype": "text/x-python",
   "name": "python",
   "nbconvert_exporter": "python",
   "pygments_lexer": "ipython3",
   "version": "3.6.5"
  }
 },
 "nbformat": 4,
 "nbformat_minor": 1
}

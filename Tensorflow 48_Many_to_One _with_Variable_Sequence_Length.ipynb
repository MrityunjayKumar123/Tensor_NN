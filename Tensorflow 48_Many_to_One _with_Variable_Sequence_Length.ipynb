{
 "cells": [
  {
   "cell_type": "markdown",
   "metadata": {},
   "source": [
    "# Many to One RNN with Variable Sequence Length:\n",
    "\n",
    "In this tutorial we implement \n",
    "\n",
    "<img src=\"files/files/06.png\">\n",
    "\n",
    "\n",
    "*Fig1. Unfolded representation of the implemented RNN structure*\n"
   ]
  },
  {
   "cell_type": "markdown",
   "metadata": {},
   "source": [
    "## 0. Import the required libraries:\n",
    "We will start with importing the required libraries to our Python environment."
   ]
  },
  {
   "cell_type": "code",
   "execution_count": 36,
   "metadata": {},
   "outputs": [],
   "source": [
    "# imports\n",
    "import tensorflow as tf\n",
    "import numpy as np"
   ]
  },
  {
   "cell_type": "code",
   "execution_count": 37,
   "metadata": {},
   "outputs": [],
   "source": [
    "\n",
    "tf.compat.v1.reset_default_graph()\n",
    "tf.compat.v1.disable_eager_execution()"
   ]
  },
  {
   "cell_type": "code",
   "execution_count": null,
   "metadata": {},
   "outputs": [],
   "source": []
  },
  {
   "cell_type": "markdown",
   "metadata": {},
   "source": [
    "## 1. Generate some data\n",
    "\n",
    "For this tutorial ...\n",
    "\n",
    "### 1.1. Data dimension\n",
    "Here, we specify the dimensions of the data samples which will be used in the code. Defining these variables makes it easier (compared with using hard-coded number all throughout the code) to modify them later. Ideally these would be inferred from the data that has been read, but here we just write the numbers."
   ]
  },
  {
   "cell_type": "code",
   "execution_count": 38,
   "metadata": {},
   "outputs": [],
   "source": [
    "# Data Dimensions\n",
    "input_dim = 1           # input dimension\n",
    "seq_max_len = 4         # sequence maximum length\n",
    "out_dim = 1             # output dimension"
   ]
  },
  {
   "cell_type": "markdown",
   "metadata": {},
   "source": [
    "### 1.2. Generate data and display the sizes\n",
    "Now we can use the defined helper function in \"train\" mode which loads the train and validation images and their corresponding labels. We'll also display their sizes:"
   ]
  },
  {
   "cell_type": "code",
   "execution_count": 39,
   "metadata": {},
   "outputs": [],
   "source": [
    "def generate_data(count=1000, max_length=4, dim=1):\n",
    "    x = np.random.randint(0, 10, size=(count, max_length, dim))\n",
    "    length = np.random.randint(1, max_length+1, count)\n",
    "    for i in range(count):\n",
    "        x[i, length[i]:, :] = 0\n",
    "    y = np.sum(x, axis=1)\n",
    "    return x, y, length"
   ]
  },
  {
   "cell_type": "markdown",
   "metadata": {},
   "source": []
  },
  {
   "cell_type": "code",
   "execution_count": 40,
   "metadata": {},
   "outputs": [
    {
     "name": "stdout",
     "output_type": "stream",
     "text": [
      "Size of:\n",
      "- Training-set:\t\t1000\n",
      "- Test-set:\t5\n"
     ]
    }
   ],
   "source": [
    "x_train, y_train, seq_len_train = generate_data(count=1000, max_length=seq_max_len, dim=input_dim)\n",
    "x_test, y_test, seq_len_test = generate_data(count=5, max_length=seq_max_len, dim=input_dim)\n",
    "\n",
    "print(\"Size of:\")\n",
    "print(\"- Training-set:\\t\\t{}\".format(len(y_train)))\n",
    "print(\"- Test-set:\\t{}\".format(len(y_test)))"
   ]
  },
  {
   "cell_type": "code",
   "execution_count": null,
   "metadata": {},
   "outputs": [],
   "source": []
  },
  {
   "cell_type": "markdown",
   "metadata": {},
   "source": [
    "To get batches of samples:"
   ]
  },
  {
   "cell_type": "code",
   "execution_count": 41,
   "metadata": {},
   "outputs": [],
   "source": [
    "def next_batch(x, y, seq_len, batch_size):\n",
    "    N = x.shape[0]\n",
    "    batch_indeces = np.random.permutation(N)[:batch_size]\n",
    "    x_batch = x[batch_indeces]\n",
    "    y_batch = y[batch_indeces]\n",
    "    seq_len_batch = seq_len[batch_indeces]\n",
    "    return x_batch, y_batch, seq_len_batch"
   ]
  },
  {
   "cell_type": "code",
   "execution_count": null,
   "metadata": {},
   "outputs": [],
   "source": []
  },
  {
   "cell_type": "markdown",
   "metadata": {},
   "source": [
    "## 2. Hyperparameters"
   ]
  },
  {
   "cell_type": "code",
   "execution_count": 42,
   "metadata": {
    "scrolled": true
   },
   "outputs": [],
   "source": [
    "# Parameters\n",
    "learning_rate = 0.01    # The optimization initial learning rate\n",
    "training_steps = 10000  # Total number of training steps\n",
    "batch_size = 10         # batch size\n",
    "display_freq = 1000     # Frequency of displaying the training results"
   ]
  },
  {
   "cell_type": "code",
   "execution_count": null,
   "metadata": {},
   "outputs": [],
   "source": []
  },
  {
   "cell_type": "markdown",
   "metadata": {},
   "source": [
    "## 2. Hyperparameters"
   ]
  },
  {
   "cell_type": "code",
   "execution_count": 43,
   "metadata": {},
   "outputs": [],
   "source": [
    "learning_rate = 0.001 # The optimization initial learning rate\n",
    "epochs = 10           # Total number of training epochs\n",
    "batch_size = 100      # Training batch size\n",
    "display_freq = 100    # Frequency of displaying the training results"
   ]
  },
  {
   "cell_type": "code",
   "execution_count": null,
   "metadata": {},
   "outputs": [],
   "source": []
  },
  {
   "cell_type": "markdown",
   "metadata": {},
   "source": [
    "## 3. Network configuration"
   ]
  },
  {
   "cell_type": "code",
   "execution_count": 44,
   "metadata": {},
   "outputs": [],
   "source": [
    "num_hidden_units = 10   # number of hidden units"
   ]
  },
  {
   "cell_type": "code",
   "execution_count": null,
   "metadata": {},
   "outputs": [],
   "source": []
  },
  {
   "cell_type": "markdown",
   "metadata": {},
   "source": [
    "## 4. Create network helper functions \n",
    "### 4.1. Helper functions for creating new variables"
   ]
  },
  {
   "cell_type": "code",
   "execution_count": 45,
   "metadata": {},
   "outputs": [],
   "source": [
    "# weight and bais wrappers\n",
    "def weight_variable(shape):\n",
    "    \"\"\"\n",
    "    Create a weight variable with appropriate initialization\n",
    "    :param name: weight name\n",
    "    :param shape: weight shape\n",
    "    :return: initialized weight variable\n",
    "    \"\"\"\n",
    "    initer = tf.compat.v1.truncated_normal_initializer(stddev=0.01)\n",
    "    return tf.compat.v1.get_variable('W',\n",
    "                           dtype=tf.float32,\n",
    "                           shape=shape,\n",
    "                           initializer=initer)\n",
    "\n",
    "\n",
    "def bias_variable(shape):\n",
    "    \"\"\"\n",
    "    Create a bias variable with appropriate initialization\n",
    "    :param name: bias variable name\n",
    "    :param shape: bias variable shape\n",
    "    :return: initialized bias variable\n",
    "    \"\"\"\n",
    "    initial = tf.compat.v1.constant(0., shape=shape, dtype=tf.compat.v1.float32)\n",
    "    return tf.compat.v1.get_variable('b',\n",
    "                           dtype=tf.compat.v1.float32,\n",
    "                           initializer=initial)"
   ]
  },
  {
   "cell_type": "code",
   "execution_count": null,
   "metadata": {},
   "outputs": [],
   "source": []
  },
  {
   "cell_type": "markdown",
   "metadata": {},
   "source": [
    "### 4.2. Helper-function for creating a RNN"
   ]
  },
  {
   "cell_type": "code",
   "execution_count": 46,
   "metadata": {},
   "outputs": [],
   "source": [
    "def RNN(x, weights, biases, n_hidden, seq_max_len, seq_len):\n",
    "    \"\"\"\n",
    "    :param x: inputs of shape [batch_size, max_time, input_dim]\n",
    "    :param weights: matrix of fully-connected output layer weights\n",
    "    :param biases: vector of fully-connected output layer biases\n",
    "    :param n_hidden: number of hidden units\n",
    "    :param seq_max_len: sequence maximum length\n",
    "    :param seq_len: length of each sequence of shape [batch_size,]\n",
    "    \"\"\"\n",
    "    cell = tf.compat.v1.nn.rnn_cell.BasicRNNCell(n_hidden)\n",
    "    outputs, states = tf.compat.v1.nn.dynamic_rnn(cell, x, sequence_length=seq_len, dtype=tf.compat.v1.float32)\n",
    "\n",
    "    # Hack to build the indexing and retrieve the right output.\n",
    "    batch_size = tf.compat.v1.shape(outputs)[0]\n",
    "    # Start indices for each sample\n",
    "    index = tf.compat.v1.range(0, batch_size) * seq_max_len + (seq_len - 1)\n",
    "    # Indexing\n",
    "    outputs = tf.compat.v1.gather(tf.compat.v1.reshape(outputs, [-1, n_hidden]), index)\n",
    "    out = tf.compat.v1.matmul(outputs, weights) + biases\n",
    "    return out"
   ]
  },
  {
   "cell_type": "code",
   "execution_count": null,
   "metadata": {},
   "outputs": [],
   "source": []
  },
  {
   "cell_type": "markdown",
   "metadata": {},
   "source": [
    "## 5. Create the network graph\n",
    "### 5.1. Placeholders for the inputs (x), sequence length (seqLen), and corresponding labels (y)"
   ]
  },
  {
   "cell_type": "code",
   "execution_count": 47,
   "metadata": {},
   "outputs": [],
   "source": [
    "# Placeholders for inputs(x), input sequence lengths (seqLen) and outputs(y)\n",
    "x = tf.compat.v1.placeholder(tf.compat.v1.float32, [None, seq_max_len, input_dim])\n",
    "seqLen = tf.compat.v1.placeholder(tf.compat.v1.int32, [None])\n",
    "y = tf.compat.v1.placeholder(tf.compat.v1.float32, [None, 1])"
   ]
  },
  {
   "cell_type": "markdown",
   "metadata": {},
   "source": [
    "### 5.2. Define the network"
   ]
  },
  {
   "cell_type": "code",
   "execution_count": 48,
   "metadata": {},
   "outputs": [],
   "source": [
    "# create weight matrix initialized randomly from N~(0, 0.01)\n",
    "W = weight_variable(shape=[num_hidden_units, out_dim])\n",
    "\n",
    "# create bias vector initialized as zero\n",
    "b = bias_variable(shape=[out_dim])\n",
    "\n",
    "# Network predictions\n",
    "pred_out = RNN(x, W, b, num_hidden_units, seq_max_len, seqLen)"
   ]
  },
  {
   "cell_type": "markdown",
   "metadata": {},
   "source": [
    "### 5.3. Define the loss function and optimizer"
   ]
  },
  {
   "cell_type": "code",
   "execution_count": 49,
   "metadata": {},
   "outputs": [],
   "source": [
    "# Define the loss function (i.e. mean-squared error loss) and optimizer\n",
    "cost = tf.compat.v1.reduce_mean(tf.compat.v1.square(pred_out - y))\n",
    "train_op = tf.compat.v1.train.AdamOptimizer(learning_rate=learning_rate).minimize(cost)"
   ]
  },
  {
   "cell_type": "markdown",
   "metadata": {},
   "source": [
    "### 5.4. Initialize all variables"
   ]
  },
  {
   "cell_type": "code",
   "execution_count": 50,
   "metadata": {},
   "outputs": [],
   "source": [
    "# Creating the op for initializing all variables\n",
    "init = tf.compat.v1.global_variables_initializer()"
   ]
  },
  {
   "cell_type": "markdown",
   "metadata": {},
   "source": [
    "## 6. Train"
   ]
  },
  {
   "cell_type": "code",
   "execution_count": 51,
   "metadata": {},
   "outputs": [
    {
     "name": "stdout",
     "output_type": "stream",
     "text": [
      "----------Training---------\n",
      "Step 0     , MSE=172.5014\n",
      "Step 100   , MSE=152.4450\n",
      "Step 200   , MSE=112.5536\n",
      "Step 300   , MSE=112.1071\n",
      "Step 400   , MSE=87.0684\n",
      "Step 500   , MSE=72.2100\n",
      "Step 600   , MSE=77.0473\n",
      "Step 700   , MSE=63.6623\n",
      "Step 800   , MSE=54.0221\n",
      "Step 900   , MSE=49.9522\n",
      "Step 1000  , MSE=40.4604\n",
      "Step 1100  , MSE=42.6400\n",
      "Step 1200  , MSE=41.7146\n",
      "Step 1300  , MSE=33.6827\n",
      "Step 1400  , MSE=22.9148\n",
      "Step 1500  , MSE=21.6448\n",
      "Step 1600  , MSE=24.2795\n",
      "Step 1700  , MSE=15.5190\n",
      "Step 1800  , MSE=19.2789\n",
      "Step 1900  , MSE=14.1949\n",
      "Step 2000  , MSE=10.7972\n",
      "Step 2100  , MSE=9.4697\n",
      "Step 2200  , MSE=9.2722\n",
      "Step 2300  , MSE=9.7767\n",
      "Step 2400  , MSE=4.4663\n",
      "Step 2500  , MSE=2.9950\n",
      "Step 2600  , MSE=5.3773\n",
      "Step 2700  , MSE=7.6283\n",
      "Step 2800  , MSE=3.3528\n",
      "Step 2900  , MSE=3.7180\n",
      "Step 3000  , MSE=3.6196\n",
      "Step 3100  , MSE=6.1622\n",
      "Step 3200  , MSE=3.6682\n",
      "Step 3300  , MSE=3.7539\n",
      "Step 3400  , MSE=1.0630\n",
      "Step 3500  , MSE=5.2369\n",
      "Step 3600  , MSE=1.6170\n",
      "Step 3700  , MSE=1.0651\n",
      "Step 3800  , MSE=1.5865\n",
      "Step 3900  , MSE=1.8811\n",
      "Step 4000  , MSE=0.3115\n",
      "Step 4100  , MSE=1.0515\n",
      "Step 4200  , MSE=2.0907\n",
      "Step 4300  , MSE=1.4542\n",
      "Step 4400  , MSE=0.6997\n",
      "Step 4500  , MSE=1.1335\n",
      "Step 4600  , MSE=3.7482\n",
      "Step 4700  , MSE=0.2219\n",
      "Step 4800  , MSE=0.2872\n",
      "Step 4900  , MSE=1.1934\n",
      "Step 5000  , MSE=0.7431\n",
      "Step 5100  , MSE=0.4282\n",
      "Step 5200  , MSE=0.1724\n",
      "Step 5300  , MSE=0.8644\n",
      "Step 5400  , MSE=0.3318\n",
      "Step 5500  , MSE=0.7684\n",
      "Step 5600  , MSE=0.0512\n",
      "Step 5700  , MSE=0.6510\n",
      "Step 5800  , MSE=0.1196\n",
      "Step 5900  , MSE=0.0341\n",
      "Step 6000  , MSE=1.0726\n",
      "Step 6100  , MSE=0.5128\n",
      "Step 6200  , MSE=0.2771\n",
      "Step 6300  , MSE=0.3691\n",
      "Step 6400  , MSE=0.0599\n",
      "Step 6500  , MSE=0.2341\n",
      "Step 6600  , MSE=0.2118\n",
      "Step 6700  , MSE=0.5528\n",
      "Step 6800  , MSE=0.1085\n",
      "Step 6900  , MSE=0.0351\n",
      "Step 7000  , MSE=0.0381\n",
      "Step 7100  , MSE=0.0504\n",
      "Step 7200  , MSE=0.1891\n",
      "Step 7300  , MSE=0.1304\n",
      "Step 7400  , MSE=0.0395\n",
      "Step 7500  , MSE=0.0672\n",
      "Step 7600  , MSE=0.1570\n",
      "Step 7700  , MSE=0.0225\n",
      "Step 7800  , MSE=0.0223\n",
      "Step 7900  , MSE=0.0254\n",
      "Step 8000  , MSE=0.0712\n",
      "Step 8100  , MSE=0.0167\n",
      "Step 8200  , MSE=0.0603\n",
      "Step 8300  , MSE=0.0148\n",
      "Step 8400  , MSE=0.0145\n",
      "Step 8500  , MSE=0.0249\n",
      "Step 8600  , MSE=0.0102\n",
      "Step 8700  , MSE=0.0524\n",
      "Step 8800  , MSE=0.0111\n",
      "Step 8900  , MSE=0.0530\n",
      "Step 9000  , MSE=0.0067\n",
      "Step 9100  , MSE=0.0324\n",
      "Step 9200  , MSE=0.0233\n",
      "Step 9300  , MSE=0.0084\n",
      "Step 9400  , MSE=0.0109\n",
      "Step 9500  , MSE=0.0064\n",
      "Step 9600  , MSE=0.0066\n",
      "Step 9700  , MSE=0.2694\n",
      "Step 9800  , MSE=0.0733\n",
      "Step 9900  , MSE=0.1891\n"
     ]
    }
   ],
   "source": [
    "with tf.compat.v1.Session() as sess:\n",
    "    sess.run(init)\n",
    "    print('----------Training---------')\n",
    "    for i in range(training_steps):\n",
    "        x_batch, y_batch, seq_len_batch = next_batch(x_train, y_train, seq_len_train, batch_size)\n",
    "        _, mse = sess.run([train_op, cost], feed_dict={x: x_batch, y: y_batch, seqLen: seq_len_batch})\n",
    "        if i % display_freq == 0:\n",
    "            print('Step {0:<6}, MSE={1:.4f}'.format(i, mse))"
   ]
  },
  {
   "cell_type": "markdown",
   "metadata": {},
   "source": [
    "## 7. Test\n",
    "### 7.1. Helper functions for plotting the results"
   ]
  },
  {
   "cell_type": "code",
   "execution_count": 52,
   "metadata": {},
   "outputs": [
    {
     "name": "stdout",
     "output_type": "stream",
     "text": [
      "--------Test Results-------\n",
      "When the ground truth output is [17], the model thinks it is [0.00480353]\n",
      "When the ground truth output is [1], the model thinks it is [0.00175828]\n",
      "When the ground truth output is [18], the model thinks it is [0.0193611]\n",
      "When the ground truth output is [24], the model thinks it is [0.0197016]\n",
      "When the ground truth output is [16], the model thinks it is [0.01386129]\n"
     ]
    }
   ],
   "source": [
    "with tf.compat.v1.Session() as sess:\n",
    "    sess.run(init)\n",
    "# Test\n",
    "    y_pred = sess.run(pred_out, feed_dict={x: x_test, seqLen: seq_len_test})\n",
    "    print('--------Test Results-------')\n",
    "    for i, x in enumerate(y_test):\n",
    "        print(\"When the ground truth output is {}, the model thinks it is {}\"\n",
    "              .format(y_test[i], y_pred[i]))\n"
   ]
  },
  {
   "cell_type": "code",
   "execution_count": null,
   "metadata": {},
   "outputs": [],
   "source": []
  }
 ],
 "metadata": {
  "kernelspec": {
   "display_name": "Python 3",
   "language": "python",
   "name": "python3"
  },
  "language_info": {
   "codemirror_mode": {
    "name": "ipython",
    "version": 3
   },
   "file_extension": ".py",
   "mimetype": "text/x-python",
   "name": "python",
   "nbconvert_exporter": "python",
   "pygments_lexer": "ipython3",
   "version": "3.6.5"
  }
 },
 "nbformat": 4,
 "nbformat_minor": 2
}

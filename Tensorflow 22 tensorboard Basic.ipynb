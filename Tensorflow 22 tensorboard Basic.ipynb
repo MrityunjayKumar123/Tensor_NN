{
 "cells": [
  {
   "cell_type": "markdown",
   "metadata": {
    "collapsed": true
   },
   "source": [
    "# TensorBoard Basics"
   ]
  },
  {
   "cell_type": "code",
   "execution_count": 10,
   "metadata": {},
   "outputs": [],
   "source": [
    "# Mrityunjay kumar #\n",
    "#More stuff here: https://blog.jakuba.net/2017/05/30/tensorflow-visualization.html"
   ]
  },
  {
   "cell_type": "code",
   "execution_count": 11,
   "metadata": {},
   "outputs": [
    {
     "name": "stdout",
     "output_type": "stream",
     "text": [
      "Extracting MNIST/train-images-idx3-ubyte.gz\n",
      "Extracting MNIST/train-labels-idx1-ubyte.gz\n",
      "Extracting MNIST/t10k-images-idx3-ubyte.gz\n",
      "Extracting MNIST/t10k-labels-idx1-ubyte.gz\n"
     ]
    }
   ],
   "source": [
    "import input_data\n",
    "import tensorflow as tf\n",
    "\n",
    "\n",
    "tf.compat.v1.disable_eager_execution()\n",
    "tf.compat.v1.reset_default_graph()\n",
    "\n",
    "\n",
    "mnist = input_data.read_data_sets(\"MNIST/\", one_hot=True)\n",
    "# Set parameters\n",
    "learning_rate = 0.01\n",
    "training_iteration = 30\n",
    "batch_size = 100\n",
    "display_step = 2"
   ]
  },
  {
   "cell_type": "code",
   "execution_count": 12,
   "metadata": {},
   "outputs": [],
   "source": [
    "# TF graph input\n",
    "x = tf.compat.v1.placeholder(\"float\", [None, 784]) # mnist data image of shape 28*28=784\n",
    "y = tf.compat.v1.placeholder(\"float\", [None, 10]) # 0-9 digits recognition => 10 classest"
   ]
  },
  {
   "cell_type": "code",
   "execution_count": 13,
   "metadata": {},
   "outputs": [],
   "source": [
    "# Create a model\n",
    "\n",
    "# Set model weights\n",
    "W = tf.compat.v1.Variable(tf.compat.v1.zeros([784, 10]))\n",
    "b = tf.compat.v1.Variable(tf.compat.v1.zeros([10]))\n",
    "\n",
    "with tf.compat.v1.name_scope(\"Wx_b\") as scope:\n",
    "    # Construct a linear model\n",
    "    model = tf.compat.v1.nn.softmax(tf.matmul(x, W) + b) # Softmax\n",
    "    \n",
    "# Add summary ops to collect data\n",
    "w_h = tf.compat.v1.summary.histogram(\"weights\", W)\n",
    "b_h = tf.compat.v1.summary.histogram(\"biases\", b)"
   ]
  },
  {
   "cell_type": "code",
   "execution_count": 14,
   "metadata": {},
   "outputs": [],
   "source": [
    "# More name scopes will clean up graph representation\n",
    "with tf.compat.v1.name_scope(\"cost_function\") as scope:\n",
    "    # Minimize error using cross entropy\n",
    "    # Cross entropy\n",
    "    cost_function = -tf.compat.v1.reduce_sum(y*tf.compat.v1.log(model))\n",
    "    # Create a summary to monitor the cost function\n",
    "    tf.compat.v1.summary.scalar(\"cost_function\", cost_function)"
   ]
  },
  {
   "cell_type": "code",
   "execution_count": null,
   "metadata": {},
   "outputs": [],
   "source": []
  },
  {
   "cell_type": "code",
   "execution_count": 15,
   "metadata": {},
   "outputs": [],
   "source": [
    "with tf.compat.v1.name_scope(\"train\") as scope:\n",
    "    # Gradient descent\n",
    "    optimizer = tf.compat.v1.train.GradientDescentOptimizer(learning_rate).minimize(cost_function)"
   ]
  },
  {
   "cell_type": "code",
   "execution_count": 16,
   "metadata": {
    "scrolled": true
   },
   "outputs": [
    {
     "name": "stdout",
     "output_type": "stream",
     "text": [
      "Iteration: 0001 cost= 30.843153863\n",
      "Iteration: 0003 cost= 21.052430659\n",
      "Iteration: 0005 cost= 20.168268670\n",
      "Iteration: 0007 cost= 19.644195030\n",
      "Iteration: 0009 cost= 19.462901025\n",
      "Iteration: 0011 cost= 19.152972166\n",
      "Iteration: 0013 cost= 18.952092522\n",
      "Iteration: 0015 cost= 18.813775002\n",
      "Iteration: 0017 cost= 18.586912472\n",
      "Iteration: 0019 cost= 18.514569128\n",
      "Iteration: 0021 cost= 18.519927443\n",
      "Iteration: 0023 cost= 18.277574659\n",
      "Iteration: 0025 cost= 18.312340253\n",
      "Iteration: 0027 cost= 18.152031144\n",
      "Iteration: 0029 cost= 18.043431007\n",
      "Tuning completed!\n",
      "Accuracy: 0.9182\n"
     ]
    }
   ],
   "source": [
    "# Initializing the variables\n",
    "init = tf.compat.v1.global_variables_initializer()\n",
    "\n",
    "# Merge all summaries into a single operator\n",
    "merged_summary_op = tf.compat.v1.summary.merge_all()\n",
    "\n",
    "# Launch the graph\n",
    "with tf.compat.v1.Session() as sess:\n",
    "    sess.run(init)\n",
    "    \n",
    "    # Set the logs writer to the folder /tmp/tensorflow_logs\n",
    "    summary_writer = tf.compat.v1.summary.FileWriter('logs2/', graph=sess.graph)\n",
    "\n",
    "    # Training cycle\n",
    "    for iteration in range(training_iteration):\n",
    "        avg_cost = 0.\n",
    "        total_batch = int(mnist.train.num_examples/batch_size)\n",
    "        # Loop over all batches\n",
    "        for i in range(total_batch):\n",
    "            batch_xs, batch_ys = mnist.train.next_batch(batch_size)\n",
    "            # Fit training using batch data\n",
    "            sess.run(optimizer, feed_dict={x: batch_xs, y: batch_ys})\n",
    "            # Compute the average loss\n",
    "            avg_cost += sess.run(cost_function, feed_dict={x: batch_xs, y: batch_ys})/total_batch\n",
    "            # Write logs for each iteration\n",
    "            summary_str = sess.run(merged_summary_op, feed_dict={x: batch_xs, y: batch_ys})\n",
    "            summary_writer.add_summary(summary_str, iteration*total_batch + i)\n",
    "        # Display logs per iteration step\n",
    "        if iteration % display_step == 0:\n",
    "            print(\"Iteration:\", '%04d' % (iteration + 1), \"cost=\", \"{:.9f}\".format(avg_cost))\n",
    "\n",
    "    print(\"Tuning completed!\")\n",
    "    # Test the model\n",
    "    predictions = tf.compat.v1.equal(tf.compat.v1.argmax(model, 1), tf.compat.v1.argmax(y, 1))\n",
    "    # Calculate accuracy\n",
    "    accuracy = tf.compat.v1.reduce_mean(tf.compat.v1.cast(predictions, \"float\"))\n",
    "    print(\"Accuracy:\", accuracy.eval({x: mnist.test.images, y: mnist.test.labels}))"
   ]
  },
  {
   "cell_type": "code",
   "execution_count": 17,
   "metadata": {},
   "outputs": [],
   "source": [
    "#Launching TensorBoard\n",
    "#To run TensorBoard, use the following command (alternatively python -m tensorboard.main)\n",
    "\n",
    "#tensorboard --logdir=path/to/log-directory"
   ]
  },
  {
   "cell_type": "code",
   "execution_count": 18,
   "metadata": {},
   "outputs": [],
   "source": [
    "#Once TensorBoard is running, navigate your web browser to localhost:6006 to view the TensorBoard."
   ]
  }
 ],
 "metadata": {
  "kernelspec": {
   "display_name": "Python 3",
   "language": "python",
   "name": "python3"
  },
  "language_info": {
   "codemirror_mode": {
    "name": "ipython",
    "version": 3
   },
   "file_extension": ".py",
   "mimetype": "text/x-python",
   "name": "python",
   "nbconvert_exporter": "python",
   "pygments_lexer": "ipython3",
   "version": "3.6.5"
  }
 },
 "nbformat": 4,
 "nbformat_minor": 1
}

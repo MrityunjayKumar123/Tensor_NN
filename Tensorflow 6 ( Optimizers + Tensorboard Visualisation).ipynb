{
 "cells": [
  {
   "cell_type": "code",
   "execution_count": null,
   "metadata": {},
   "outputs": [],
   "source": [
    "# Mrityunjay kumar # \n",
    "# Optimizers + Tensorboard Visualisation"
   ]
  },
  {
   "cell_type": "code",
   "execution_count": 1,
   "metadata": {},
   "outputs": [
    {
     "name": "stderr",
     "output_type": "stream",
     "text": [
      "/anaconda3/lib/python3.6/site-packages/h5py/__init__.py:36: FutureWarning: Conversion of the second argument of issubdtype from `float` to `np.floating` is deprecated. In future, it will be treated as `np.float64 == np.dtype(float).type`.\n",
      "  from ._conv import register_converters as _register_converters\n"
     ]
    }
   ],
   "source": [
    "import tensorflow as tf\n",
    "import numpy as np"
   ]
  },
  {
   "cell_type": "code",
   "execution_count": 2,
   "metadata": {},
   "outputs": [
    {
     "name": "stderr",
     "output_type": "stream",
     "text": [
      "WARNING: Logging before flag parsing goes to stderr.\n",
      "W0128 15:19:11.708015 4586436032 deprecation.py:323] From /anaconda3/lib/python3.6/site-packages/tensorflow/python/util/tf_should_use.py:193: initialize_all_variables (from tensorflow.python.ops.variables) is deprecated and will be removed after 2017-03-02.\n",
      "Instructions for updating:\n",
      "Use `tf.global_variables_initializer` instead.\n"
     ]
    }
   ],
   "source": [
    "import matplotlib\n",
    "import tensorflow as tf\n",
    "import numpy as np\n",
    "from matplotlib import pyplot as plt\n",
    "\n",
    "#defining the structure of a layer\n",
    "\n",
    "tf.compat.v1.disable_eager_execution()\n",
    "\n",
    "\n",
    "def add_layer(inputs,in_size,out_size,n_layer,activation_function=None):\n",
    "    with tf.compat.v1.name_scope('layer'):\n",
    "        layer_name = \"layer_%s\" % n_layer\n",
    "        #inputs from previous layer\n",
    "        #in_size: size(number of neurons) of previous layer\n",
    "        #out_size: size(number of neurons) of this layer\n",
    "        #activation_function: used in this layer\n",
    "        with tf.compat.v1.name_scope('Weights'):\n",
    "            Weights = tf.compat.v1.Variable(tf.compat.v1.random_normal([in_size,out_size]),name='W')\n",
    "            tf.compat.v1.summary.histogram(layer_name+\"/Weights\",Weights)\n",
    "        with tf.compat.v1.name_scope('biases'):\n",
    "            biases = tf.compat.v1.Variable(tf.zeros([1,out_size])+0.1,name='b')\n",
    "            tf.compat.v1.summary.histogram(layer_name+\"/biases\",biases)\n",
    "        with tf.name_scope('logit'):\n",
    "            logit = tf.compat.v1.matmul(inputs,Weights) + biases\n",
    "            tf.compat.v1.summary.histogram(layer_name+\"/logit\",logit)\n",
    "        if activation_function is None:\n",
    "            output = logit\n",
    "        else:\n",
    "            output = activation_function(logit,)\n",
    "        tf.compat.v1.summary.histogram(layer_name+\"/Output\",output)\n",
    "        return output\n",
    "\n",
    "#make up some real data\n",
    "x = np.linspace(-1,1,300)[:,np.newaxis]\n",
    "noise = np.random.normal(0,0.05,x.shape)\n",
    "y = np.square(x)-0.05+noise\n",
    "\n",
    "#define placeholder for inputs to network\n",
    "with tf.compat.v1.name_scope('inputs'):\n",
    "    xs = tf.compat.v1.placeholder(tf.compat.v1.float32,[None,1],name='x_input')  #numerous rows and 1 column : structure of x\n",
    "    ys = tf.compat.v1.placeholder(tf.compat.v1.float32,[None,1],name='y_input')  #numerous rows and 1 column : structure of y\n",
    "\n",
    "#add hidden layer\n",
    "layer1 = add_layer(xs,1,10,1,tf.compat.v1.nn.relu)#input size has one feature(unit)&the next hidden layer consists of 10 units\n",
    "\n",
    "#add output layer\n",
    "predicted = add_layer(layer1,10,1,2)#layer one had 10 units, output ys has 1 unit and since non linear regression\n",
    "                                  #therefore, no activation function (try and put some activation function and \n",
    "                                  #check the results)\n",
    "        \n",
    "#error between prediction and real data\n",
    "with tf.compat.v1.name_scope('loss'):\n",
    "    loss = tf.compat.v1.reduce_mean(tf.compat.v1.reduce_sum(tf.compat.v1.square(predicted-ys),reduction_indices=[1]))\n",
    "    tf.compat.v1.summary.scalar(\"loss\",loss)\n",
    "with tf.compat.v1.name_scope('train'):\n",
    "    training = tf.compat.v1.train.GradientDescentOptimizer(0.1).minimize(loss)  #0.1 is the learning rate, minimise the loss\n",
    "\n",
    "#important\n",
    "init = tf.compat.v1.initialize_all_variables()\n",
    "sess = tf.compat.v1.Session()\n",
    "\n",
    "merged = tf.compat.v1.summary.merge_all()\n",
    "\n",
    "writer = tf.compat.v1.summary.FileWriter(\"logs/\",sess.graph)\n",
    "\n",
    "sess.run(init)\n",
    "\n",
    "\n",
    "for step in range(1000):\n",
    "    sess.run(training,feed_dict={xs:x,ys:y})\n",
    "    if(step%50==0):\n",
    "        result = sess.run(merged,feed_dict={xs:x,ys:y})\n",
    "        writer.add_summary(result,step)"
   ]
  },
  {
   "cell_type": "code",
   "execution_count": null,
   "metadata": {},
   "outputs": [],
   "source": [
    "#in order to visualise the tensorboard\n",
    "#open the terminal and go to the directory containing the above logs folder/directory\n",
    "#$ tensorboard --logdir==\"logs\""
   ]
  },
  {
   "cell_type": "code",
   "execution_count": null,
   "metadata": {},
   "outputs": [],
   "source": []
  }
 ],
 "metadata": {
  "kernelspec": {
   "display_name": "Python 3",
   "language": "python",
   "name": "python3"
  },
  "language_info": {
   "codemirror_mode": {
    "name": "ipython",
    "version": 3
   },
   "file_extension": ".py",
   "mimetype": "text/x-python",
   "name": "python",
   "nbconvert_exporter": "python",
   "pygments_lexer": "ipython3",
   "version": "3.6.5"
  }
 },
 "nbformat": 4,
 "nbformat_minor": 1
}

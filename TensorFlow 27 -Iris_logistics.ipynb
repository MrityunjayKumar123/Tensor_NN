{
 "cells": [
  {
   "cell_type": "code",
   "execution_count": 319,
   "metadata": {},
   "outputs": [],
   "source": [
    "\n",
    "import os\n",
    "import pandas\n",
    "import numpy as np\n",
    "import tensorflow as tf\n",
    "import matplotlib.pyplot as plt"
   ]
  },
  {
   "cell_type": "code",
   "execution_count": 320,
   "metadata": {},
   "outputs": [],
   "source": [
    "# load the training & Test Data.\n",
    "\n",
    "os.chdir(r\"/Users/mrityunjay/Desktop/Deep Learning/Assignment/\")\n",
    "\n",
    "names = ['sepal-length', 'sepal-width', 'petal-length', 'petal-width', 'species']\n",
    "\n",
    "data_train = pandas.read_csv('iris_training.csv',names=names,skiprows=1)\n",
    "data_test  = pandas.read_csv('iris_test.csv',names=names,skiprows=1)\n"
   ]
  },
  {
   "cell_type": "code",
   "execution_count": 321,
   "metadata": {},
   "outputs": [
    {
     "data": {
      "text/html": [
       "<div>\n",
       "<style scoped>\n",
       "    .dataframe tbody tr th:only-of-type {\n",
       "        vertical-align: middle;\n",
       "    }\n",
       "\n",
       "    .dataframe tbody tr th {\n",
       "        vertical-align: top;\n",
       "    }\n",
       "\n",
       "    .dataframe thead th {\n",
       "        text-align: right;\n",
       "    }\n",
       "</style>\n",
       "<table border=\"1\" class=\"dataframe\">\n",
       "  <thead>\n",
       "    <tr style=\"text-align: right;\">\n",
       "      <th></th>\n",
       "      <th>sepal-length</th>\n",
       "      <th>sepal-width</th>\n",
       "      <th>petal-length</th>\n",
       "      <th>petal-width</th>\n",
       "      <th>species</th>\n",
       "    </tr>\n",
       "  </thead>\n",
       "  <tbody>\n",
       "    <tr>\n",
       "      <th>0</th>\n",
       "      <td>6.4</td>\n",
       "      <td>2.8</td>\n",
       "      <td>5.6</td>\n",
       "      <td>2.2</td>\n",
       "      <td>2</td>\n",
       "    </tr>\n",
       "    <tr>\n",
       "      <th>1</th>\n",
       "      <td>5.0</td>\n",
       "      <td>2.3</td>\n",
       "      <td>3.3</td>\n",
       "      <td>1.0</td>\n",
       "      <td>1</td>\n",
       "    </tr>\n",
       "    <tr>\n",
       "      <th>2</th>\n",
       "      <td>4.9</td>\n",
       "      <td>2.5</td>\n",
       "      <td>4.5</td>\n",
       "      <td>1.7</td>\n",
       "      <td>2</td>\n",
       "    </tr>\n",
       "    <tr>\n",
       "      <th>3</th>\n",
       "      <td>4.9</td>\n",
       "      <td>3.1</td>\n",
       "      <td>1.5</td>\n",
       "      <td>0.1</td>\n",
       "      <td>0</td>\n",
       "    </tr>\n",
       "    <tr>\n",
       "      <th>4</th>\n",
       "      <td>5.7</td>\n",
       "      <td>3.8</td>\n",
       "      <td>1.7</td>\n",
       "      <td>0.3</td>\n",
       "      <td>0</td>\n",
       "    </tr>\n",
       "  </tbody>\n",
       "</table>\n",
       "</div>"
      ],
      "text/plain": [
       "   sepal-length  sepal-width  petal-length  petal-width  species\n",
       "0           6.4          2.8           5.6          2.2        2\n",
       "1           5.0          2.3           3.3          1.0        1\n",
       "2           4.9          2.5           4.5          1.7        2\n",
       "3           4.9          3.1           1.5          0.1        0\n",
       "4           5.7          3.8           1.7          0.3        0"
      ]
     },
     "execution_count": 321,
     "metadata": {},
     "output_type": "execute_result"
    }
   ],
   "source": [
    "data_train.head()"
   ]
  },
  {
   "cell_type": "code",
   "execution_count": 322,
   "metadata": {},
   "outputs": [
    {
     "data": {
      "text/plain": [
       "(120, 5)"
      ]
     },
     "execution_count": 322,
     "metadata": {},
     "output_type": "execute_result"
    }
   ],
   "source": [
    "data_train.shape"
   ]
  },
  {
   "cell_type": "code",
   "execution_count": 323,
   "metadata": {},
   "outputs": [
    {
     "data": {
      "text/html": [
       "<div>\n",
       "<style scoped>\n",
       "    .dataframe tbody tr th:only-of-type {\n",
       "        vertical-align: middle;\n",
       "    }\n",
       "\n",
       "    .dataframe tbody tr th {\n",
       "        vertical-align: top;\n",
       "    }\n",
       "\n",
       "    .dataframe thead th {\n",
       "        text-align: right;\n",
       "    }\n",
       "</style>\n",
       "<table border=\"1\" class=\"dataframe\">\n",
       "  <thead>\n",
       "    <tr style=\"text-align: right;\">\n",
       "      <th></th>\n",
       "      <th>sepal-length</th>\n",
       "      <th>sepal-width</th>\n",
       "      <th>petal-length</th>\n",
       "      <th>petal-width</th>\n",
       "      <th>species</th>\n",
       "    </tr>\n",
       "  </thead>\n",
       "  <tbody>\n",
       "    <tr>\n",
       "      <th>0</th>\n",
       "      <td>5.9</td>\n",
       "      <td>3.0</td>\n",
       "      <td>4.2</td>\n",
       "      <td>1.5</td>\n",
       "      <td>1</td>\n",
       "    </tr>\n",
       "    <tr>\n",
       "      <th>1</th>\n",
       "      <td>6.9</td>\n",
       "      <td>3.1</td>\n",
       "      <td>5.4</td>\n",
       "      <td>2.1</td>\n",
       "      <td>2</td>\n",
       "    </tr>\n",
       "    <tr>\n",
       "      <th>2</th>\n",
       "      <td>5.1</td>\n",
       "      <td>3.3</td>\n",
       "      <td>1.7</td>\n",
       "      <td>0.5</td>\n",
       "      <td>0</td>\n",
       "    </tr>\n",
       "    <tr>\n",
       "      <th>3</th>\n",
       "      <td>6.0</td>\n",
       "      <td>3.4</td>\n",
       "      <td>4.5</td>\n",
       "      <td>1.6</td>\n",
       "      <td>1</td>\n",
       "    </tr>\n",
       "    <tr>\n",
       "      <th>4</th>\n",
       "      <td>5.5</td>\n",
       "      <td>2.5</td>\n",
       "      <td>4.0</td>\n",
       "      <td>1.3</td>\n",
       "      <td>1</td>\n",
       "    </tr>\n",
       "  </tbody>\n",
       "</table>\n",
       "</div>"
      ],
      "text/plain": [
       "   sepal-length  sepal-width  petal-length  petal-width  species\n",
       "0           5.9          3.0           4.2          1.5        1\n",
       "1           6.9          3.1           5.4          2.1        2\n",
       "2           5.1          3.3           1.7          0.5        0\n",
       "3           6.0          3.4           4.5          1.6        1\n",
       "4           5.5          2.5           4.0          1.3        1"
      ]
     },
     "execution_count": 323,
     "metadata": {},
     "output_type": "execute_result"
    }
   ],
   "source": [
    "data_test.head()"
   ]
  },
  {
   "cell_type": "code",
   "execution_count": 324,
   "metadata": {},
   "outputs": [
    {
     "data": {
      "text/plain": [
       "(30, 5)"
      ]
     },
     "execution_count": 324,
     "metadata": {},
     "output_type": "execute_result"
    }
   ],
   "source": [
    "data_test.shape"
   ]
  },
  {
   "cell_type": "code",
   "execution_count": 325,
   "metadata": {},
   "outputs": [],
   "source": [
    "# Training & test. data & label\n",
    "\n",
    "X  = data_train.drop(labels=['species'], axis=1).values\n",
    "y  = data_train.species.values\n",
    "\n",
    "X1  = data_test.drop(labels=['species'], axis=1).values\n",
    "y1  = data_test.species.values"
   ]
  },
  {
   "cell_type": "code",
   "execution_count": 326,
   "metadata": {},
   "outputs": [],
   "source": [
    "# random seed\n",
    "seed = 5\n",
    "np.random.seed(seed)\n",
    "tf.compat.v1.set_random_seed(seed)"
   ]
  },
  {
   "cell_type": "code",
   "execution_count": 327,
   "metadata": {},
   "outputs": [],
   "source": [
    "# Creating Index for train & test\n",
    "train_index = np.random.choice(len(X), round(len(X) * 1), replace=False)\n",
    "test_index  = np.random.choice(len(X1), round(len(X1) * 1), replace=False)"
   ]
  },
  {
   "cell_type": "code",
   "execution_count": 328,
   "metadata": {},
   "outputs": [],
   "source": [
    "# train & test \n",
    "\n",
    "train_X = X[train_index]\n",
    "train_y = y[train_index]\n",
    "test_X = X1[test_index]\n",
    "test_y = y1[test_index]"
   ]
  },
  {
   "cell_type": "code",
   "execution_count": 331,
   "metadata": {},
   "outputs": [],
   "source": [
    "# Function for min max normalization\n",
    "\n",
    "def normalized(df):\n",
    "    c_max = np.max(df, axis=0)\n",
    "    c_min = np.min(df, axis=0)\n",
    "    return np.divide(df - c_min, c_max - c_min)"
   ]
  },
  {
   "cell_type": "code",
   "execution_count": 332,
   "metadata": {},
   "outputs": [],
   "source": [
    "# Applied normalized here\n",
    "train_X = normalized(train_X)\n",
    "test_X = normalized(test_X)"
   ]
  },
  {
   "cell_type": "code",
   "execution_count": 333,
   "metadata": {},
   "outputs": [],
   "source": [
    "# Disable_eager_execution\n",
    "tf.compat.v1.disable_eager_execution()"
   ]
  },
  {
   "cell_type": "code",
   "execution_count": 334,
   "metadata": {},
   "outputs": [],
   "source": [
    "# Tensor variable flow setting A & b\n",
    "\n",
    "A = tf.compat.v1.Variable(tf.compat.v1.random_normal(shape=[4, 1]))\n",
    "b = tf.compat.v1.Variable(tf.compat.v1.random_normal(shape=[1, 1]))\n",
    "\n",
    "# init Tensor sess\n",
    "\n",
    "init = tf.compat.v1.global_variables_initializer()\n",
    "sess = tf.compat.v1.Session()\n",
    "sess.run(init)"
   ]
  },
  {
   "cell_type": "code",
   "execution_count": 335,
   "metadata": {},
   "outputs": [],
   "source": [
    "# Placeholeder Setting..\n",
    "\n",
    "df =  tf.compat.v1.placeholder(dtype=tf.float32, shape=[None, 4])\n",
    "tg = tf.compat.v1.placeholder(dtype=tf.float32, shape=[None, 1])\n"
   ]
  },
  {
   "cell_type": "code",
   "execution_count": 336,
   "metadata": {},
   "outputs": [],
   "source": [
    "# Define the logistic regression model\n",
    "\n",
    "mod_logit = tf.matmul(df, A) + b"
   ]
  },
  {
   "cell_type": "code",
   "execution_count": 337,
   "metadata": {},
   "outputs": [],
   "source": [
    "# Define the loss\n",
    "\n",
    "loss = tf.reduce_mean(tf.nn.sigmoid_cross_entropy_with_logits(logits=mod_logit, labels=tg))\n"
   ]
  },
  {
   "cell_type": "code",
   "execution_count": 357,
   "metadata": {},
   "outputs": [],
   "source": [
    "# Set parameters , Learning rate, bath size and iterations..\n",
    "\n",
    "learning_rate = 0.001\n",
    "b_size = 30\n",
    "iteration = 300"
   ]
  },
  {
   "cell_type": "code",
   "execution_count": 347,
   "metadata": {},
   "outputs": [],
   "source": [
    "# Optimizers funtion\n",
    "\n",
    "opt = tf.compat.v1.train.GradientDescentOptimizer(learning_rate)"
   ]
  },
  {
   "cell_type": "code",
   "execution_count": 348,
   "metadata": {},
   "outputs": [],
   "source": [
    "# Loss minimize through optimizer\n",
    "\n",
    "opt_loss = opt.minimize(loss)"
   ]
  },
  {
   "cell_type": "code",
   "execution_count": 341,
   "metadata": {},
   "outputs": [],
   "source": [
    "# Define the accuracy, Prediction and Correctness\n",
    "\n",
    "prd = tf.round(tf.sigmoid(mod_logit)) # Prediction\n",
    "\n",
    "crt = tf.cast(tf.equal(prd, tg), dtype=tf.float32) # Correctness\n",
    "\n",
    "acc = tf.reduce_mean(crt)  # Accuracy\n",
    "\n",
    "# End of the definition of the model framework"
   ]
  },
  {
   "cell_type": "code",
   "execution_count": 367,
   "metadata": {},
   "outputs": [],
   "source": [
    "# Start training model\n",
    "\n",
    "# Define the variable that stores the result\n",
    "\n",
    "t_loss = []\n",
    "t_train_acc  = []\n",
    "t_test_acc   = []\n"
   ]
  },
  {
   "cell_type": "code",
   "execution_count": 370,
   "metadata": {},
   "outputs": [
    {
     "name": "stdout",
     "output_type": "stream",
     "text": [
      "After:   30 loss: -5.019729 train_acc: 0.300000 test_acc: 0.466667\n",
      "After:   60 loss: -7.776328 train_acc: 0.300000 test_acc: 0.466667\n",
      "After:   90 loss: -6.089333 train_acc: 0.300000 test_acc: 0.466667\n",
      "After:  120 loss: -4.856372 train_acc: 0.300000 test_acc: 0.466667\n",
      "After:  150 loss: -5.010684 train_acc: 0.300000 test_acc: 0.466667\n",
      "After:  180 loss: -5.023567 train_acc: 0.300000 test_acc: 0.466667\n",
      "After:  210 loss: -3.079484 train_acc: 0.300000 test_acc: 0.466667\n",
      "After:  240 loss: -4.096069 train_acc: 0.300000 test_acc: 0.466667\n",
      "After:  270 loss: -2.844344 train_acc: 0.300000 test_acc: 0.466667\n",
      "After:  300 loss: -6.197680 train_acc: 0.300000 test_acc: 0.466667\n"
     ]
    }
   ],
   "source": [
    "# Iterations..\n",
    "\n",
    "for epoch in range(iteration):\n",
    "    \n",
    "    # Generate random batch index\n",
    "    \n",
    "    b_index = np.random.choice(len(train_X), size=b_size)\n",
    "    b_train_X = train_X[b_index]\n",
    "    b_train_y = np.matrix(train_y[b_index]).T\n",
    "    \n",
    "    sess.run(opt_loss, feed_dict={df: b_train_X, tg: b_train_y})\n",
    "    t_loss = sess.run(loss, feed_dict={df: b_train_X, tg: b_train_y})\n",
    "    \n",
    "    t_train_acc = sess.run(acc, feed_dict={df: train_X, tg: np.matrix(train_y).T})\n",
    "    t_test_acc  = sess.run(acc, feed_dict={df: test_X, tg: np.matrix(test_y).T})\n",
    "  \n",
    "    # recode the result\n",
    "    \n",
    "    loss_trace.append(t_loss)\n",
    "    train_acc.append(t_train_acc)\n",
    "    test_acc.append(t_test_acc)\n",
    "    \n",
    "    # output\n",
    "    if (epoch + 1) % 30 == 0:\n",
    "        print('After : {:4d} loss: {:5f} train_acc: {:5f} test_acc: {:5f}'.format(epoch + 1, t_loss,\n",
    "                                                                                 t_train_acc, t_test_acc))      "
   ]
  },
  {
   "cell_type": "code",
   "execution_count": 369,
   "metadata": {},
   "outputs": [
    {
     "data": {
      "image/png": "[encoded data removed]",
      "text/plain": [
       "<Figure size 720x432 with 1 Axes>"
      ]
     },
     "metadata": {
      "needs_background": "light"
     },
     "output_type": "display_data"
    }
   ],
   "source": [
    "# Visualization of the results\n",
    "# loss function\n",
    "\n",
    "plt.rcParams[\"figure.figsize\"] = [10,6]\n",
    "plt.plot(loss_trace)\n",
    "plt.title('Cross Entropy Loss')\n",
    "plt.xlabel('epoch')\n",
    "plt.ylabel('loss')\n",
    "plt.show()\n"
   ]
  },
  {
   "cell_type": "code",
   "execution_count": null,
   "metadata": {},
   "outputs": [],
   "source": []
  },
  {
   "cell_type": "code",
   "execution_count": 366,
   "metadata": {},
   "outputs": [
    {
     "data": {
      "image/png": "[encoded data removed]",
      "text/plain": [
       "<Figure size 720x432 with 1 Axes>"
      ]
     },
     "metadata": {
      "needs_background": "light"
     },
     "output_type": "display_data"
    }
   ],
   "source": [
    "# accuracy\n",
    "plt.plot(train_acc, 'b-', label='Training accuracy')\n",
    "plt.plot(test_acc, 'k-', label='Test accuracy')\n",
    "plt.title('Train and Test Accuracy')\n",
    "plt.ylabel('accuracy')\n",
    "plt.xlabel('epoch')\n",
    "\n",
    "plt.legend(loc='best')\n",
    "plt.show()"
   ]
  },
  {
   "cell_type": "code",
   "execution_count": null,
   "metadata": {},
   "outputs": [],
   "source": [
    "# End of Report #"
   ]
  }
 ],
 "metadata": {
  "kernelspec": {
   "display_name": "Python 3",
   "language": "python",
   "name": "python3"
  },
  "language_info": {
   "codemirror_mode": {
    "name": "ipython",
    "version": 3
   },
   "file_extension": ".py",
   "mimetype": "text/x-python",
   "name": "python",
   "nbconvert_exporter": "python",
   "pygments_lexer": "ipython3",
   "version": "3.6.5"
  }
 },
 "nbformat": 4,
 "nbformat_minor": 2
}

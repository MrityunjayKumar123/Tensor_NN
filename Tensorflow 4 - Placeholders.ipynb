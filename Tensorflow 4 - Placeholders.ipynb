{
 "cells": [
  {
   "cell_type": "code",
   "execution_count": 1,
   "metadata": {},
   "outputs": [],
   "source": [
    "# Mrityunjay kumar #\n",
    "# placeholder #"
   ]
  },
  {
   "cell_type": "code",
   "execution_count": 3,
   "metadata": {},
   "outputs": [
    {
     "name": "stderr",
     "output_type": "stream",
     "text": [
      "/anaconda3/lib/python3.6/site-packages/h5py/__init__.py:36: FutureWarning: Conversion of the second argument of issubdtype from `float` to `np.floating` is deprecated. In future, it will be treated as `np.float64 == np.dtype(float).type`.\n",
      "  from ._conv import register_converters as _register_converters\n"
     ]
    }
   ],
   "source": [
    "import tensorflow as tf"
   ]
  },
  {
   "cell_type": "code",
   "execution_count": 4,
   "metadata": {},
   "outputs": [],
   "source": [
    "\n",
    "tf.compat.v1.disable_eager_execution()\n",
    "\n",
    "\n",
    "input1 = tf.compat.v1.placeholder(tf.compat.v1.float32)   #2nd argument you can enter the shape of the placeholder e.g. if it's a matrix\n",
    "                                      #shape would be must\n",
    "input2 = tf.compat.v1.placeholder(tf.compat.v1.float32)   #tf.float32 will convert the type of the numbers assigned to the placeholders\n",
    "                                      #as float32"
   ]
  },
  {
   "cell_type": "code",
   "execution_count": null,
   "metadata": {},
   "outputs": [],
   "source": []
  },
  {
   "cell_type": "code",
   "execution_count": 5,
   "metadata": {},
   "outputs": [],
   "source": [
    "mul = tf.compat.v1.multiply(input1,input2)"
   ]
  },
  {
   "cell_type": "code",
   "execution_count": 6,
   "metadata": {},
   "outputs": [
    {
     "name": "stdout",
     "output_type": "stream",
     "text": [
      "Enter input_1:2\n",
      "Enter input_2:3\n",
      "output: [6.]\n",
      "Enter input_1:4\n",
      "Enter input_2:4\n",
      "output: [16.]\n",
      "Enter input_1:5\n",
      "Enter input_2:5\n",
      "output: [25.]\n"
     ]
    }
   ],
   "source": [
    "with tf.compat.v1.Session() as sess:\n",
    "    for _ in range(3):\n",
    "        a = input('Enter input_1:')\n",
    "        b = input('Enter input_2:')\n",
    "        print('output:',sess.run(mul,feed_dict={input1:[a],input2:[b]}))\n",
    "\n",
    "#feed_dict is normal python dictionary to feed the data to the placeholders which need data in form of list"
   ]
  },
  {
   "cell_type": "code",
   "execution_count": null,
   "metadata": {
    "collapsed": true
   },
   "outputs": [],
   "source": []
  }
 ],
 "metadata": {
  "kernelspec": {
   "display_name": "Python 3",
   "language": "python",
   "name": "python3"
  },
  "language_info": {
   "codemirror_mode": {
    "name": "ipython",
    "version": 3
   },
   "file_extension": ".py",
   "mimetype": "text/x-python",
   "name": "python",
   "nbconvert_exporter": "python",
   "pygments_lexer": "ipython3",
   "version": "3.6.5"
  }
 },
 "nbformat": 4,
 "nbformat_minor": 1
}

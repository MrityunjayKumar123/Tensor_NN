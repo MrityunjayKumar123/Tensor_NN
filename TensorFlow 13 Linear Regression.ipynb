{
 "cells": [
  {
   "cell_type": "code",
   "execution_count": 18,
   "metadata": {},
   "outputs": [],
   "source": [
    "# Mrityunjay kumar #\n",
    "# A linear regression learning algorithm example using TensorFlow library. # "
   ]
  },
  {
   "cell_type": "code",
   "execution_count": 19,
   "metadata": {},
   "outputs": [],
   "source": [
    "import tensorflow as tf\n",
    "import numpy\n",
    "import matplotlib.pyplot as plt\n",
    "rng = numpy.random"
   ]
  },
  {
   "cell_type": "code",
   "execution_count": 20,
   "metadata": {},
   "outputs": [],
   "source": [
    "# Parameters\n",
    "learning_rate = 0.01\n",
    "training_epochs = 2500\n",
    "display_step = 50"
   ]
  },
  {
   "cell_type": "code",
   "execution_count": 21,
   "metadata": {},
   "outputs": [],
   "source": [
    "# Training Data\n",
    "train_X = numpy.asarray([3.3,4.4,5.5,6.71,6.93,4.168,9.779,6.182,7.59,2.167,7.042,10.791,5.313,7.997,5.654,9.27,3.1])\n",
    "train_Y = numpy.asarray([1.7,2.76,2.09,3.19,1.694,1.573,3.366,2.596,2.53,1.221,2.827,3.465,1.65,2.904,2.42,2.94,1.3])\n",
    "n_samples = train_X.shape[0]"
   ]
  },
  {
   "cell_type": "code",
   "execution_count": 22,
   "metadata": {},
   "outputs": [],
   "source": [
    "tf.compat.v1.disable_eager_execution()\n",
    "\n",
    "# tf Graph Input\n",
    "X = tf.compat.v1.placeholder(\"float\")\n",
    "Y = tf.compat.v1.placeholder(\"float\")"
   ]
  },
  {
   "cell_type": "code",
   "execution_count": 23,
   "metadata": {},
   "outputs": [],
   "source": [
    "# Create Model\n",
    "\n",
    "# Set model weights\n",
    "W = tf.Variable(rng.randn(), name=\"weight\")\n",
    "b = tf.Variable(rng.randn(), name=\"bias\")"
   ]
  },
  {
   "cell_type": "code",
   "execution_count": 24,
   "metadata": {},
   "outputs": [],
   "source": [
    "# Construct a linear model\n",
    "activation = tf.add(tf.multiply(X, W), b)"
   ]
  },
  {
   "cell_type": "code",
   "execution_count": 25,
   "metadata": {},
   "outputs": [],
   "source": [
    "# Minimize the squared errors\n",
    "cost = tf.reduce_sum(tf.pow(activation-Y, 2))/(2*n_samples) #L2 loss\n",
    "optimizer = tf.compat.v1.train.GradientDescentOptimizer(learning_rate).minimize(cost) #Gradient descent"
   ]
  },
  {
   "cell_type": "code",
   "execution_count": 26,
   "metadata": {},
   "outputs": [],
   "source": [
    "# Initializing the variables\n",
    "init = tf.compat.v1.initialize_all_variables()"
   ]
  },
  {
   "cell_type": "code",
   "execution_count": 27,
   "metadata": {},
   "outputs": [
    {
     "data": {
      "image/png": "[encoded data removed]",
      "text/plain": [
       "<Figure size 432x288 with 1 Axes>"
      ]
     },
     "metadata": {},
     "output_type": "display_data"
    }
   ],
   "source": [
    "    plt.plot(train_X, train_Y, 'ro', label='Original data')\n",
    "    plt.legend()\n",
    "    plt.show()"
   ]
  },
  {
   "cell_type": "code",
   "execution_count": 28,
   "metadata": {},
   "outputs": [
    {
     "name": "stdout",
     "output_type": "stream",
     "text": [
      "Epoch: 0001 cost= 1.413662314 W= 0.5515524 b= 0.40722644\n",
      "Epoch: 0051 cost= 0.086983390 W= 0.30565205 b= 0.39818656\n",
      "Epoch: 0101 cost= 0.085825473 W= 0.30231795 b= 0.42217126\n",
      "Epoch: 0151 cost= 0.084801458 W= 0.29918218 b= 0.4447296\n",
      "Epoch: 0201 cost= 0.083895847 W= 0.29623288 b= 0.4659467\n",
      "Epoch: 0251 cost= 0.083095014 W= 0.293459 b= 0.4859019\n",
      "Epoch: 0301 cost= 0.082386859 W= 0.29085013 b= 0.5046696\n",
      "Epoch: 0351 cost= 0.081760623 W= 0.28839645 b= 0.52232176\n",
      "Epoch: 0401 cost= 0.081206910 W= 0.2860886 b= 0.53892374\n",
      "Epoch: 0451 cost= 0.080717251 W= 0.28391817 b= 0.5545383\n",
      "Epoch: 0501 cost= 0.080284275 W= 0.28187656 b= 0.5692252\n",
      "Epoch: 0551 cost= 0.079901472 W= 0.27995646 b= 0.5830381\n",
      "Epoch: 0601 cost= 0.079562992 W= 0.27815047 b= 0.5960302\n",
      "Epoch: 0651 cost= 0.079263695 W= 0.27645186 b= 0.60824996\n",
      "Epoch: 0701 cost= 0.078999139 W= 0.27485454 b= 0.6197411\n",
      "Epoch: 0751 cost= 0.078765243 W= 0.27335232 b= 0.6305481\n",
      "Epoch: 0801 cost= 0.078558505 W= 0.27193934 b= 0.64071274\n",
      "Epoch: 0851 cost= 0.078375705 W= 0.27061033 b= 0.6502732\n",
      "Epoch: 0901 cost= 0.078214109 W= 0.2693604 b= 0.6592657\n",
      "Epoch: 0951 cost= 0.078071259 W= 0.26818478 b= 0.6677228\n",
      "Epoch: 1001 cost= 0.077945031 W= 0.26707914 b= 0.67567635\n",
      "Epoch: 1051 cost= 0.077833444 W= 0.2660392 b= 0.68315756\n",
      "Epoch: 1101 cost= 0.077734806 W= 0.2650612 b= 0.6901936\n",
      "Epoch: 1151 cost= 0.077647634 W= 0.26414126 b= 0.6968115\n",
      "Epoch: 1201 cost= 0.077570625 W= 0.26327604 b= 0.7030359\n",
      "Epoch: 1251 cost= 0.077502556 W= 0.26246217 b= 0.70889056\n",
      "Epoch: 1301 cost= 0.077442393 W= 0.2616968 b= 0.71439695\n",
      "Epoch: 1351 cost= 0.077389278 W= 0.26097688 b= 0.71957594\n",
      "Epoch: 1401 cost= 0.077342324 W= 0.2602999 b= 0.7244464\n",
      "Epoch: 1451 cost= 0.077300854 W= 0.25966305 b= 0.7290274\n",
      "Epoch: 1501 cost= 0.077264197 W= 0.25906402 b= 0.73333675\n",
      "Epoch: 1551 cost= 0.077231862 W= 0.25850073 b= 0.7373893\n",
      "Epoch: 1601 cost= 0.077203296 W= 0.257971 b= 0.7412007\n",
      "Epoch: 1651 cost= 0.077178068 W= 0.25747257 b= 0.74478567\n",
      "Epoch: 1701 cost= 0.077155776 W= 0.25700384 b= 0.7481575\n",
      "Epoch: 1751 cost= 0.077136107 W= 0.25656307 b= 0.7513285\n",
      "Epoch: 1801 cost= 0.077118747 W= 0.2561485 b= 0.75431114\n",
      "Epoch: 1851 cost= 0.077103429 W= 0.25575843 b= 0.75711673\n",
      "Epoch: 1901 cost= 0.077089913 W= 0.25539163 b= 0.75975573\n",
      "Epoch: 1951 cost= 0.077077977 W= 0.25504673 b= 0.7622373\n",
      "Epoch: 2001 cost= 0.077067442 W= 0.2547223 b= 0.7645716\n",
      "Epoch: 2051 cost= 0.077058166 W= 0.25441715 b= 0.7667664\n",
      "Epoch: 2101 cost= 0.077049986 W= 0.2541301 b= 0.7688311\n",
      "Epoch: 2151 cost= 0.077042766 W= 0.25386 b= 0.7707735\n",
      "Epoch: 2201 cost= 0.077036411 W= 0.25360617 b= 0.7726007\n",
      "Epoch: 2251 cost= 0.077030793 W= 0.2533675 b= 0.77431774\n",
      "Epoch: 2301 cost= 0.077025868 W= 0.25314283 b= 0.7759335\n",
      "Epoch: 2351 cost= 0.077021502 W= 0.25293148 b= 0.77745426\n",
      "Epoch: 2401 cost= 0.077017680 W= 0.25273266 b= 0.7788842\n",
      "Epoch: 2451 cost= 0.077014320 W= 0.25254583 b= 0.78022754\n",
      "Optimization Finished!\n",
      "cost= 0.07701139 W= 0.2523736 b= 0.78146726\n"
     ]
    },
    {
     "data": {
      "image/png": "[encoded data removed]",
      "text/plain": [
       "<Figure size 432x288 with 1 Axes>"
      ]
     },
     "metadata": {},
     "output_type": "display_data"
    }
   ],
   "source": [
    "# Launch the graph\n",
    "with tf.compat.v1.Session() as sess:\n",
    "    sess.run(init)\n",
    "    # Fit all training data\n",
    "    for epoch in range(training_epochs):\n",
    "        for (x, y) in zip(train_X, train_Y):\n",
    "            sess.run(optimizer, feed_dict={X: x, Y: y})\n",
    "\n",
    "        #Display logs per epoch step\n",
    "        if epoch % display_step == 0:\n",
    "            print (\"Epoch:\", '%04d' % (epoch+1), \"cost=\", \\\n",
    "                \"{:.9f}\".format(sess.run(cost, feed_dict={X: train_X, Y:train_Y})), \\\n",
    "                \"W=\", sess.run(W), \"b=\", sess.run(b))\n",
    "\n",
    "    print (\"Optimization Finished!\")\n",
    "    print (\"cost=\", sess.run(cost, feed_dict={X: train_X, Y: train_Y}), \\\n",
    "          \"W=\", sess.run(W), \"b=\", sess.run(b))\n",
    "\n",
    "    #Graphic display\n",
    "    plt.plot(train_X, train_Y, 'ro', label='Original data')\n",
    "    plt.plot(train_X, sess.run(W) * train_X + sess.run(b), label='Fitted line')\n",
    "    plt.legend()\n",
    "    plt.show()"
   ]
  },
  {
   "cell_type": "code",
   "execution_count": null,
   "metadata": {},
   "outputs": [],
   "source": []
  }
 ],
 "metadata": {
  "kernelspec": {
   "display_name": "Python 3",
   "language": "python",
   "name": "python3"
  },
  "language_info": {
   "codemirror_mode": {
    "name": "ipython",
    "version": 3
   },
   "file_extension": ".py",
   "mimetype": "text/x-python",
   "name": "python",
   "nbconvert_exporter": "python",
   "pygments_lexer": "ipython3",
   "version": "3.6.5"
  }
 },
 "nbformat": 4,
 "nbformat_minor": 1
}

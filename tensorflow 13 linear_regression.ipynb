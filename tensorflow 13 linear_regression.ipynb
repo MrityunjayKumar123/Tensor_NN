{
 "cells": [
  {
   "cell_type": "code",
   "execution_count": 1,
   "metadata": {},
   "outputs": [],
   "source": [
    "# A linear regression learning algorithm example using TensorFlow library."
   ]
  },
  {
   "cell_type": "code",
   "execution_count": 2,
   "metadata": {},
   "outputs": [
    {
     "name": "stderr",
     "output_type": "stream",
     "text": [
      "/anaconda3/lib/python3.6/site-packages/h5py/__init__.py:36: FutureWarning: Conversion of the second argument of issubdtype from `float` to `np.floating` is deprecated. In future, it will be treated as `np.float64 == np.dtype(float).type`.\n",
      "  from ._conv import register_converters as _register_converters\n"
     ]
    }
   ],
   "source": [
    "import tensorflow as tf\n",
    "import numpy\n",
    "import matplotlib.pyplot as plt\n",
    "rng = numpy.random"
   ]
  },
  {
   "cell_type": "code",
   "execution_count": 3,
   "metadata": {},
   "outputs": [],
   "source": [
    "# Parameters\n",
    "learning_rate = 0.01\n",
    "training_epochs = 2500\n",
    "display_step = 50"
   ]
  },
  {
   "cell_type": "code",
   "execution_count": 4,
   "metadata": {},
   "outputs": [],
   "source": [
    "# Training Data\n",
    "train_X = numpy.asarray([3.3,4.4,5.5,6.71,6.93,4.168,9.779,6.182,7.59,2.167,7.042,10.791,5.313,7.997,5.654,9.27,3.1])\n",
    "train_Y = numpy.asarray([1.7,2.76,2.09,3.19,1.694,1.573,3.366,2.596,2.53,1.221,2.827,3.465,1.65,2.904,2.42,2.94,1.3])\n",
    "n_samples = train_X.shape[0]"
   ]
  },
  {
   "cell_type": "code",
   "execution_count": 5,
   "metadata": {},
   "outputs": [],
   "source": [
    "tf.compat.v1.disable_eager_execution()\n",
    "\n",
    "# tf Graph Input\n",
    "X = tf.compat.v1.placeholder(\"float\")\n",
    "Y = tf.compat.v1.placeholder(\"float\")"
   ]
  },
  {
   "cell_type": "code",
   "execution_count": 6,
   "metadata": {},
   "outputs": [],
   "source": [
    "# Create Model\n",
    "\n",
    "# Set model weights\n",
    "W = tf.Variable(rng.randn(), name=\"weight\")\n",
    "b = tf.Variable(rng.randn(), name=\"bias\")"
   ]
  },
  {
   "cell_type": "code",
   "execution_count": 7,
   "metadata": {},
   "outputs": [],
   "source": [
    "# Construct a linear model\n",
    "activation = tf.add(tf.multiply(X, W), b)"
   ]
  },
  {
   "cell_type": "code",
   "execution_count": 8,
   "metadata": {},
   "outputs": [
    {
     "name": "stderr",
     "output_type": "stream",
     "text": [
      "WARNING: Logging before flag parsing goes to stderr.\n",
      "W0114 16:03:58.073910 4647830976 deprecation.py:323] From /anaconda3/lib/python3.6/site-packages/tensorflow/python/ops/math_grad.py:1205: add_dispatch_support.<locals>.wrapper (from tensorflow.python.ops.array_ops) is deprecated and will be removed in a future version.\n",
      "Instructions for updating:\n",
      "Use tf.where in 2.0, which has the same broadcast rule as np.where\n"
     ]
    }
   ],
   "source": [
    "# Minimize the squared errors\n",
    "cost = tf.reduce_sum(tf.pow(activation-Y, 2))/(2*n_samples) #L2 loss\n",
    "optimizer = tf.compat.v1.train.GradientDescentOptimizer(learning_rate).minimize(cost) #Gradient descent"
   ]
  },
  {
   "cell_type": "code",
   "execution_count": 9,
   "metadata": {},
   "outputs": [
    {
     "name": "stderr",
     "output_type": "stream",
     "text": [
      "W0114 16:03:58.138929 4647830976 deprecation.py:323] From /anaconda3/lib/python3.6/site-packages/tensorflow/python/util/tf_should_use.py:193: initialize_all_variables (from tensorflow.python.ops.variables) is deprecated and will be removed after 2017-03-02.\n",
      "Instructions for updating:\n",
      "Use `tf.global_variables_initializer` instead.\n"
     ]
    }
   ],
   "source": [
    "# Initializing the variables\n",
    "init = tf.compat.v1.initialize_all_variables()"
   ]
  },
  {
   "cell_type": "code",
   "execution_count": 12,
   "metadata": {},
   "outputs": [
    {
     "data": {
      "image/png": "[encoded data removed]",
      "text/plain": [
       "<Figure size 432x288 with 1 Axes>"
      ]
     },
     "metadata": {},
     "output_type": "display_data"
    }
   ],
   "source": [
    "    plt.plot(train_X, train_Y, 'ro', label='Original data')\n",
    "    plt.legend()\n",
    "    plt.show()"
   ]
  },
  {
   "cell_type": "code",
   "execution_count": 13,
   "metadata": {},
   "outputs": [
    {
     "name": "stdout",
     "output_type": "stream",
     "text": [
      "Epoch: 0001 cost= 0.256077856 W= 0.5014652 b= -0.630294\n",
      "Epoch: 0051 cost= 0.190221399 W= 0.43774596 b= -0.55208826\n",
      "Epoch: 0101 cost= 0.177137554 W= 0.42655566 b= -0.47158626\n",
      "Epoch: 0151 cost= 0.165564597 W= 0.41603088 b= -0.3958717\n",
      "Epoch: 0201 cost= 0.155328140 W= 0.40613204 b= -0.32465985\n",
      "Epoch: 0251 cost= 0.146274000 W= 0.39682195 b= -0.25768393\n",
      "Epoch: 0301 cost= 0.138265610 W= 0.38806555 b= -0.1946914\n",
      "Epoch: 0351 cost= 0.131182164 W= 0.37983 b= -0.13544503\n",
      "Epoch: 0401 cost= 0.124916948 W= 0.37208417 b= -0.079722494\n",
      "Epoch: 0451 cost= 0.119375437 W= 0.36479917 b= -0.027313959\n",
      "Epoch: 0501 cost= 0.114474125 W= 0.35794726 b= 0.021977553\n",
      "Epoch: 0551 cost= 0.110139020 W= 0.35150304 b= 0.06833745\n",
      "Epoch: 0601 cost= 0.106304809 W= 0.3454419 b= 0.11194015\n",
      "Epoch: 0651 cost= 0.102913603 W= 0.33974144 b= 0.15294957\n",
      "Epoch: 0701 cost= 0.099914268 W= 0.33437988 b= 0.19151989\n",
      "Epoch: 0751 cost= 0.097261511 W= 0.32933727 b= 0.22779639\n",
      "Epoch: 0801 cost= 0.094915383 W= 0.32459444 b= 0.26191548\n",
      "Epoch: 0851 cost= 0.092840366 W= 0.3201337 b= 0.29400548\n",
      "Epoch: 0901 cost= 0.091005221 W= 0.31593844 b= 0.32418677\n",
      "Epoch: 0951 cost= 0.089382276 W= 0.31199268 b= 0.35257235\n",
      "Epoch: 1001 cost= 0.087946907 W= 0.3082814 b= 0.37927043\n",
      "Epoch: 1051 cost= 0.086677536 W= 0.30479094 b= 0.4043807\n",
      "Epoch: 1101 cost= 0.085554980 W= 0.3015081 b= 0.4279969\n",
      "Epoch: 1151 cost= 0.084562235 W= 0.2984205 b= 0.4502089\n",
      "Epoch: 1201 cost= 0.083684288 W= 0.29551655 b= 0.4711002\n",
      "Epoch: 1251 cost= 0.082907967 W= 0.29278523 b= 0.49074838\n",
      "Epoch: 1301 cost= 0.082221456 W= 0.29021654 b= 0.5092278\n",
      "Epoch: 1351 cost= 0.081614412 W= 0.2878006 b= 0.52660763\n",
      "Epoch: 1401 cost= 0.081077598 W= 0.2855282 b= 0.54295504\n",
      "Epoch: 1451 cost= 0.080602914 W= 0.283391 b= 0.5583301\n",
      "Epoch: 1501 cost= 0.080183178 W= 0.28138077 b= 0.57279164\n",
      "Epoch: 1551 cost= 0.079812050 W= 0.27949005 b= 0.58639324\n",
      "Epoch: 1601 cost= 0.079483882 W= 0.27771163 b= 0.5991871\n",
      "Epoch: 1651 cost= 0.079193778 W= 0.27603927 b= 0.6112183\n",
      "Epoch: 1701 cost= 0.078937352 W= 0.27446645 b= 0.6225326\n",
      "Epoch: 1751 cost= 0.078710616 W= 0.27298737 b= 0.6331736\n",
      "Epoch: 1801 cost= 0.078510188 W= 0.2715961 b= 0.64318186\n",
      "Epoch: 1851 cost= 0.078333028 W= 0.27028766 b= 0.6525945\n",
      "Epoch: 1901 cost= 0.078176387 W= 0.26905695 b= 0.66144806\n",
      "Epoch: 1951 cost= 0.078037940 W= 0.26789954 b= 0.66977495\n",
      "Epoch: 2001 cost= 0.077915542 W= 0.26681083 b= 0.6776069\n",
      "Epoch: 2051 cost= 0.077807412 W= 0.26578686 b= 0.684973\n",
      "Epoch: 2101 cost= 0.077711791 W= 0.26482382 b= 0.6919012\n",
      "Epoch: 2151 cost= 0.077627331 W= 0.263918 b= 0.6984176\n",
      "Epoch: 2201 cost= 0.077552661 W= 0.26306605 b= 0.7045463\n",
      "Epoch: 2251 cost= 0.077486679 W= 0.26226485 b= 0.71031046\n",
      "Epoch: 2301 cost= 0.077428393 W= 0.26151124 b= 0.7157321\n",
      "Epoch: 2351 cost= 0.077376887 W= 0.26080224 b= 0.720832\n",
      "Epoch: 2401 cost= 0.077331372 W= 0.26013547 b= 0.72562844\n",
      "Epoch: 2451 cost= 0.077291183 W= 0.25950852 b= 0.7301393\n",
      "Optimization Finished!\n",
      "cost= 0.07725633 W= 0.25893018 b= 0.7342996\n"
     ]
    },
    {
     "data": {
      "image/png": "[encoded data removed]",
      "text/plain": [
       "<Figure size 432x288 with 1 Axes>"
      ]
     },
     "metadata": {},
     "output_type": "display_data"
    }
   ],
   "source": [
    "# Launch the graph\n",
    "with tf.compat.v1.Session() as sess:\n",
    "    sess.run(init)\n",
    "    # Fit all training data\n",
    "    for epoch in range(training_epochs):\n",
    "        for (x, y) in zip(train_X, train_Y):\n",
    "            sess.run(optimizer, feed_dict={X: x, Y: y})\n",
    "\n",
    "        #Display logs per epoch step\n",
    "        if epoch % display_step == 0:\n",
    "            print (\"Epoch:\", '%04d' % (epoch+1), \"cost=\", \\\n",
    "                \"{:.9f}\".format(sess.run(cost, feed_dict={X: train_X, Y:train_Y})), \\\n",
    "                \"W=\", sess.run(W), \"b=\", sess.run(b))\n",
    "\n",
    "    print (\"Optimization Finished!\")\n",
    "    print (\"cost=\", sess.run(cost, feed_dict={X: train_X, Y: train_Y}), \\\n",
    "          \"W=\", sess.run(W), \"b=\", sess.run(b))\n",
    "\n",
    "    #Graphic display\n",
    "    plt.plot(train_X, train_Y, 'ro', label='Original data')\n",
    "    plt.plot(train_X, sess.run(W) * train_X + sess.run(b), label='Fitted line')\n",
    "    plt.legend()\n",
    "    plt.show()"
   ]
  },
  {
   "cell_type": "code",
   "execution_count": null,
   "metadata": {},
   "outputs": [],
   "source": []
  }
 ],
 "metadata": {
  "kernelspec": {
   "display_name": "Python 3",
   "language": "python",
   "name": "python3"
  },
  "language_info": {
   "codemirror_mode": {
    "name": "ipython",
    "version": 3
   },
   "file_extension": ".py",
   "mimetype": "text/x-python",
   "name": "python",
   "nbconvert_exporter": "python",
   "pygments_lexer": "ipython3",
   "version": "3.6.5"
  }
 },
 "nbformat": 4,
 "nbformat_minor": 1
}
